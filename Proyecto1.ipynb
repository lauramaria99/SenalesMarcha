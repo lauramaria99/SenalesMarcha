{
  "nbformat": 4,
  "nbformat_minor": 0,
  "metadata": {
    "colab": {
      "name": "Proyecto1.ipynb",
      "provenance": [],
      "collapsed_sections": [],
      "include_colab_link": true
    },
    "kernelspec": {
      "name": "python3",
      "display_name": "Python 3"
    }
  },
  "cells": [
    {
      "cell_type": "markdown",
      "metadata": {
        "id": "view-in-github",
        "colab_type": "text"
      },
      "source": [
        "<a href=\"https://colab.research.google.com/github/lauramaria99/SenalesMarcha/blob/main/Proyecto1.ipynb\" target=\"_parent\"><img src=\"https://colab.research.google.com/assets/colab-badge.svg\" alt=\"Open In Colab\"/></a>"
      ]
    },
    {
      "cell_type": "markdown",
      "metadata": {
        "id": "tLr9P43pz5c-"
      },
      "source": [
        "# **Programa de Bioingeniería** \n",
        "\n",
        "**Bioseñales y Sistemas** \n",
        "\n",
        "**Proyecto 1** \n",
        "\n",
        "\n"
      ]
    },
    {
      "cell_type": "markdown",
      "metadata": {
        "id": "2zxBBOxl4ysC"
      },
      "source": [
        "El presente trabajo pretende realizar un análisis de algunos datos extraidos a partir de una base de datos ya establecida, con el objetivo de visualizar el comportamiento de la marcha de algunos sujetos que padecen enfermedades neurodegenerativas. Este análisis se realiza usando herramenientas de la estadistica descriptiva y la implementación de pruebas de hipotesis sobre los índices de fluctuación dinamica y de magnitud relacionados con la variabilidad en la marcha de los sujetos en cuestión.    "
      ]
    },
    {
      "cell_type": "markdown",
      "metadata": {
        "id": "w9QoEHyB695B"
      },
      "source": [
        "# Extracción de datos"
      ]
    },
    {
      "cell_type": "code",
      "metadata": {
        "id": "JvMxGug66wNu",
        "colab": {
          "base_uri": "https://localhost:8080/",
          "height": 1000
        },
        "outputId": "e79b7973-15d7-48a9-9183-bf26d1469ddd"
      },
      "source": [
        "#Se extrae la información de la base de datos dada.\n",
        "!wget https://physionet.org/static/published-projects/gaitndd/gait-in-neurodegenerative-disease-database-1.0.0.zip\n",
        "!unzip gait-in-neurodegenerative-disease-database-1.0.0.zip\n",
        "!mv gait-in-neurodegenerative-disease-database-1.0.0 senales"
      ],
      "execution_count": null,
      "outputs": [
        {
          "output_type": "stream",
          "text": [
            "--2020-10-17 13:29:58--  https://physionet.org/static/published-projects/gaitndd/gait-in-neurodegenerative-disease-database-1.0.0.zip\n",
            "Resolving physionet.org (physionet.org)... 18.18.42.54\n",
            "Connecting to physionet.org (physionet.org)|18.18.42.54|:443... connected.\n",
            "HTTP request sent, awaiting response... 200 OK\n",
            "Length: 18788912 (18M) [application/zip]\n",
            "Saving to: ‘gait-in-neurodegenerative-disease-database-1.0.0.zip’\n",
            "\n",
            "gait-in-neurodegene 100%[===================>]  17.92M  11.7MB/s    in 1.5s    \n",
            "\n",
            "2020-10-17 13:30:00 (11.7 MB/s) - ‘gait-in-neurodegenerative-disease-database-1.0.0.zip’ saved [18788912/18788912]\n",
            "\n",
            "Archive:  gait-in-neurodegenerative-disease-database-1.0.0.zip\n",
            " extracting: gait-in-neurodegenerative-disease-database-1.0.0/control14.hea-  \n",
            " extracting: gait-in-neurodegenerative-disease-database-1.0.0/control5.hea-  \n",
            " extracting: gait-in-neurodegenerative-disease-database-1.0.0/park6.hea-  \n",
            " extracting: gait-in-neurodegenerative-disease-database-1.0.0/hunt13.rit  \n",
            " extracting: gait-in-neurodegenerative-disease-database-1.0.0/control13.ts  \n",
            " extracting: gait-in-neurodegenerative-disease-database-1.0.0/hunt18.rit  \n",
            " extracting: gait-in-neurodegenerative-disease-database-1.0.0/als11.rit  \n",
            " extracting: gait-in-neurodegenerative-disease-database-1.0.0/control9.hea-  \n",
            " extracting: gait-in-neurodegenerative-disease-database-1.0.0/control14.rit  \n",
            " extracting: gait-in-neurodegenerative-disease-database-1.0.0/park4.ts  \n",
            " extracting: gait-in-neurodegenerative-disease-database-1.0.0/hunt6.hea  \n",
            " extracting: gait-in-neurodegenerative-disease-database-1.0.0/park2.hea  \n",
            " extracting: gait-in-neurodegenerative-disease-database-1.0.0/hunt20.hea  \n",
            " extracting: gait-in-neurodegenerative-disease-database-1.0.0/als11.hea  \n",
            " extracting: gait-in-neurodegenerative-disease-database-1.0.0/park12.ts  \n",
            " extracting: gait-in-neurodegenerative-disease-database-1.0.0/control11.rit  \n",
            " extracting: gait-in-neurodegenerative-disease-database-1.0.0/control7.let  \n",
            " extracting: gait-in-neurodegenerative-disease-database-1.0.0/als9.hea  \n",
            " extracting: gait-in-neurodegenerative-disease-database-1.0.0/control8.hea-  \n",
            " extracting: gait-in-neurodegenerative-disease-database-1.0.0/hunt8.hea  \n",
            " extracting: gait-in-neurodegenerative-disease-database-1.0.0/hunt16.ts  \n",
            " extracting: gait-in-neurodegenerative-disease-database-1.0.0/SHA256SUMS.txt  \n",
            " extracting: gait-in-neurodegenerative-disease-database-1.0.0/park4.let  \n",
            " extracting: gait-in-neurodegenerative-disease-database-1.0.0/hunt14.ts  \n",
            " extracting: gait-in-neurodegenerative-disease-database-1.0.0/hunt15.hea-  \n",
            " extracting: gait-in-neurodegenerative-disease-database-1.0.0/park3.ts  \n",
            " extracting: gait-in-neurodegenerative-disease-database-1.0.0/control10.hea-  \n",
            " extracting: gait-in-neurodegenerative-disease-database-1.0.0/hunt14.hea  \n",
            " extracting: gait-in-neurodegenerative-disease-database-1.0.0/hunt12.let  \n",
            " extracting: gait-in-neurodegenerative-disease-database-1.0.0/hunt17.let  \n",
            " extracting: gait-in-neurodegenerative-disease-database-1.0.0/hunt8.let  \n",
            " extracting: gait-in-neurodegenerative-disease-database-1.0.0/hunt20.let  \n",
            " extracting: gait-in-neurodegenerative-disease-database-1.0.0/control13.hea  \n",
            " extracting: gait-in-neurodegenerative-disease-database-1.0.0/control5.rit  \n",
            " extracting: gait-in-neurodegenerative-disease-database-1.0.0/hunt15.hea  \n",
            " extracting: gait-in-neurodegenerative-disease-database-1.0.0/hunt3.rit  \n",
            " extracting: gait-in-neurodegenerative-disease-database-1.0.0/control14.ts  \n",
            " extracting: gait-in-neurodegenerative-disease-database-1.0.0/als12.rit  \n",
            " extracting: gait-in-neurodegenerative-disease-database-1.0.0/hunt8.ts  \n",
            " extracting: gait-in-neurodegenerative-disease-database-1.0.0/park10.hea  \n",
            " extracting: gait-in-neurodegenerative-disease-database-1.0.0/park11.let  \n",
            " extracting: gait-in-neurodegenerative-disease-database-1.0.0/park10.hea-  \n",
            " extracting: gait-in-neurodegenerative-disease-database-1.0.0/als13.rit  \n",
            " extracting: gait-in-neurodegenerative-disease-database-1.0.0/hunt15.let  \n",
            " extracting: gait-in-neurodegenerative-disease-database-1.0.0/RECORDS  \n",
            " extracting: gait-in-neurodegenerative-disease-database-1.0.0/als4.ts  \n",
            " extracting: gait-in-neurodegenerative-disease-database-1.0.0/als12.hea-  \n",
            " extracting: gait-in-neurodegenerative-disease-database-1.0.0/control13.hea-  \n",
            " extracting: gait-in-neurodegenerative-disease-database-1.0.0/hunt17.hea  \n",
            " extracting: gait-in-neurodegenerative-disease-database-1.0.0/hunt5.rit  \n",
            " extracting: gait-in-neurodegenerative-disease-database-1.0.0/als8.hea-  \n",
            " extracting: gait-in-neurodegenerative-disease-database-1.0.0/als9.rit  \n",
            " extracting: gait-in-neurodegenerative-disease-database-1.0.0/control6.hea  \n",
            " extracting: gait-in-neurodegenerative-disease-database-1.0.0/control12.hea-  \n",
            " extracting: gait-in-neurodegenerative-disease-database-1.0.0/control6.let  \n",
            " extracting: gait-in-neurodegenerative-disease-database-1.0.0/park3.hea-  \n",
            " extracting: gait-in-neurodegenerative-disease-database-1.0.0/hunt4.let  \n",
            " extracting: gait-in-neurodegenerative-disease-database-1.0.0/control10.ts  \n",
            " extracting: gait-in-neurodegenerative-disease-database-1.0.0/als5.ts  \n",
            " extracting: gait-in-neurodegenerative-disease-database-1.0.0/control15.let  \n",
            " extracting: gait-in-neurodegenerative-disease-database-1.0.0/als10.rit  \n",
            " extracting: gait-in-neurodegenerative-disease-database-1.0.0/park7.let  \n",
            " extracting: gait-in-neurodegenerative-disease-database-1.0.0/als2.let  \n",
            " extracting: gait-in-neurodegenerative-disease-database-1.0.0/park13.hea-  \n",
            " extracting: gait-in-neurodegenerative-disease-database-1.0.0/park9.rit  \n",
            " extracting: gait-in-neurodegenerative-disease-database-1.0.0/als8.hea  \n",
            " extracting: gait-in-neurodegenerative-disease-database-1.0.0/als13.hea  \n",
            " extracting: gait-in-neurodegenerative-disease-database-1.0.0/park9.let  \n",
            " extracting: gait-in-neurodegenerative-disease-database-1.0.0/control6.hea-  \n",
            " extracting: gait-in-neurodegenerative-disease-database-1.0.0/hunt11.hea  \n",
            " extracting: gait-in-neurodegenerative-disease-database-1.0.0/als6.hea  \n",
            " extracting: gait-in-neurodegenerative-disease-database-1.0.0/hunt19.rit  \n",
            " extracting: gait-in-neurodegenerative-disease-database-1.0.0/park15.rit  \n",
            " extracting: gait-in-neurodegenerative-disease-database-1.0.0/control4.rit  \n",
            " extracting: gait-in-neurodegenerative-disease-database-1.0.0/park2.hea-  \n",
            " extracting: gait-in-neurodegenerative-disease-database-1.0.0/als12.ts  \n",
            " extracting: gait-in-neurodegenerative-disease-database-1.0.0/park10.rit  \n",
            " extracting: gait-in-neurodegenerative-disease-database-1.0.0/hunt3.let  \n",
            " extracting: gait-in-neurodegenerative-disease-database-1.0.0/control11.ts  \n",
            " extracting: gait-in-neurodegenerative-disease-database-1.0.0/park6.rit  \n",
            " extracting: gait-in-neurodegenerative-disease-database-1.0.0/hunt15.ts  \n",
            " extracting: gait-in-neurodegenerative-disease-database-1.0.0/park5.rit  \n",
            " extracting: gait-in-neurodegenerative-disease-database-1.0.0/park15.ts  \n",
            " extracting: gait-in-neurodegenerative-disease-database-1.0.0/hunt13.hea  \n",
            " extracting: gait-in-neurodegenerative-disease-database-1.0.0/hunt8.rit  \n",
            " extracting: gait-in-neurodegenerative-disease-database-1.0.0/hunt7.hea-  \n",
            " extracting: gait-in-neurodegenerative-disease-database-1.0.0/control5.hea  \n",
            " extracting: gait-in-neurodegenerative-disease-database-1.0.0/park15.let  \n",
            " extracting: gait-in-neurodegenerative-disease-database-1.0.0/hunt5.hea  \n",
            " extracting: gait-in-neurodegenerative-disease-database-1.0.0/control16.let  \n",
            " extracting: gait-in-neurodegenerative-disease-database-1.0.0/als7.hea  \n",
            " extracting: gait-in-neurodegenerative-disease-database-1.0.0/hunt7.rit  \n",
            " extracting: gait-in-neurodegenerative-disease-database-1.0.0/als13.let  \n",
            " extracting: gait-in-neurodegenerative-disease-database-1.0.0/hunt12.rit  \n",
            " extracting: gait-in-neurodegenerative-disease-database-1.0.0/als7.hea-  \n",
            " extracting: gait-in-neurodegenerative-disease-database-1.0.0/park7.hea-  \n",
            " extracting: gait-in-neurodegenerative-disease-database-1.0.0/hunt14.rit  \n",
            " extracting: gait-in-neurodegenerative-disease-database-1.0.0/hunt18.hea  \n",
            " extracting: gait-in-neurodegenerative-disease-database-1.0.0/hunt11.hea-  \n",
            " extracting: gait-in-neurodegenerative-disease-database-1.0.0/als5.hea-  \n",
            " extracting: gait-in-neurodegenerative-disease-database-1.0.0/control7.hea-  \n",
            " extracting: gait-in-neurodegenerative-disease-database-1.0.0/control4.let  \n",
            " extracting: gait-in-neurodegenerative-disease-database-1.0.0/control5.ts  \n",
            " extracting: gait-in-neurodegenerative-disease-database-1.0.0/park14.hea-  \n",
            " extracting: gait-in-neurodegenerative-disease-database-1.0.0/control9.ts  \n",
            " extracting: gait-in-neurodegenerative-disease-database-1.0.0/als10.hea  \n",
            " extracting: gait-in-neurodegenerative-disease-database-1.0.0/control8.hea  \n",
            " extracting: gait-in-neurodegenerative-disease-database-1.0.0/control4.ts  \n",
            " extracting: gait-in-neurodegenerative-disease-database-1.0.0/als10.hea-  \n",
            " extracting: gait-in-neurodegenerative-disease-database-1.0.0/control8.let  \n",
            " extracting: gait-in-neurodegenerative-disease-database-1.0.0/als7.let  \n",
            " extracting: gait-in-neurodegenerative-disease-database-1.0.0/hunt16.rit  \n",
            " extracting: gait-in-neurodegenerative-disease-database-1.0.0/hunt11.let  \n",
            " extracting: gait-in-neurodegenerative-disease-database-1.0.0/hunt16.hea  \n",
            " extracting: gait-in-neurodegenerative-disease-database-1.0.0/example-ts.ps  \n",
            " extracting: gait-in-neurodegenerative-disease-database-1.0.0/hunt1.ts  \n",
            " extracting: gait-in-neurodegenerative-disease-database-1.0.0/hunt17.rit  \n",
            " extracting: gait-in-neurodegenerative-disease-database-1.0.0/hunt12.hea-  \n",
            " extracting: gait-in-neurodegenerative-disease-database-1.0.0/park4.rit  \n",
            " extracting: gait-in-neurodegenerative-disease-database-1.0.0/hunt5.let  \n",
            " extracting: gait-in-neurodegenerative-disease-database-1.0.0/als3.hea-  \n",
            " extracting: gait-in-neurodegenerative-disease-database-1.0.0/als9.ts  \n",
            " extracting: gait-in-neurodegenerative-disease-database-1.0.0/als2.rit  \n",
            " extracting: gait-in-neurodegenerative-disease-database-1.0.0/park8.rit  \n",
            " extracting: gait-in-neurodegenerative-disease-database-1.0.0/control16.rit  \n",
            " extracting: gait-in-neurodegenerative-disease-database-1.0.0/control16.hea  \n",
            " extracting: gait-in-neurodegenerative-disease-database-1.0.0/hunt17.hea-  \n",
            " extracting: gait-in-neurodegenerative-disease-database-1.0.0/hunt5.ts  \n",
            " extracting: gait-in-neurodegenerative-disease-database-1.0.0/als11.let  \n",
            " extracting: gait-in-neurodegenerative-disease-database-1.0.0/hunt1.rit  \n",
            " extracting: gait-in-neurodegenerative-disease-database-1.0.0/park13.ts  \n",
            " extracting: gait-in-neurodegenerative-disease-database-1.0.0/hunt10.hea  \n",
            " extracting: gait-in-neurodegenerative-disease-database-1.0.0/park9.hea  \n",
            " extracting: gait-in-neurodegenerative-disease-database-1.0.0/park4.hea-  \n",
            " extracting: gait-in-neurodegenerative-disease-database-1.0.0/control16.ts  \n",
            " extracting: gait-in-neurodegenerative-disease-database-1.0.0/control1.let  \n",
            " extracting: gait-in-neurodegenerative-disease-database-1.0.0/park14.ts  \n",
            " extracting: gait-in-neurodegenerative-disease-database-1.0.0/control7.hea  \n",
            " extracting: gait-in-neurodegenerative-disease-database-1.0.0/hunt5.hea-  \n",
            " extracting: gait-in-neurodegenerative-disease-database-1.0.0/hunt10.hea-  \n",
            " extracting: gait-in-neurodegenerative-disease-database-1.0.0/hunt2.let  \n",
            " extracting: gait-in-neurodegenerative-disease-database-1.0.0/control3.ts  \n",
            " extracting: gait-in-neurodegenerative-disease-database-1.0.0/hunt15.rit  \n",
            " extracting: gait-in-neurodegenerative-disease-database-1.0.0/als4.hea  \n",
            " extracting: gait-in-neurodegenerative-disease-database-1.0.0/hunt6.let  \n",
            " extracting: gait-in-neurodegenerative-disease-database-1.0.0/hunt4.hea  \n",
            " extracting: gait-in-neurodegenerative-disease-database-1.0.0/control6.rit  \n",
            " extracting: gait-in-neurodegenerative-disease-database-1.0.0/als12.hea  \n",
            " extracting: gait-in-neurodegenerative-disease-database-1.0.0/als3.ts  \n",
            " extracting: gait-in-neurodegenerative-disease-database-1.0.0/hunt20.hea-  \n",
            " extracting: gait-in-neurodegenerative-disease-database-1.0.0/control12.hea  \n",
            " extracting: gait-in-neurodegenerative-disease-database-1.0.0/control3.hea-  \n",
            " extracting: gait-in-neurodegenerative-disease-database-1.0.0/park9.ts  \n",
            " extracting: gait-in-neurodegenerative-disease-database-1.0.0/park4.hea  \n",
            " extracting: gait-in-neurodegenerative-disease-database-1.0.0/hunt10.ts  \n",
            " extracting: gait-in-neurodegenerative-disease-database-1.0.0/control3.rit  \n",
            " extracting: gait-in-neurodegenerative-disease-database-1.0.0/als1.rit  \n",
            " extracting: gait-in-neurodegenerative-disease-database-1.0.0/hunt19.ts  \n",
            " extracting: gait-in-neurodegenerative-disease-database-1.0.0/hunt4.ts  \n",
            " extracting: gait-in-neurodegenerative-disease-database-1.0.0/park7.ts  \n",
            " extracting: gait-in-neurodegenerative-disease-database-1.0.0/hunt8.hea-  \n",
            " extracting: gait-in-neurodegenerative-disease-database-1.0.0/als4.rit  \n",
            " extracting: gait-in-neurodegenerative-disease-database-1.0.0/als11.ts  \n",
            " extracting: gait-in-neurodegenerative-disease-database-1.0.0/park6.ts  \n",
            " extracting: gait-in-neurodegenerative-disease-database-1.0.0/hunt10.rit  \n",
            " extracting: gait-in-neurodegenerative-disease-database-1.0.0/control2.hea  \n",
            " extracting: gait-in-neurodegenerative-disease-database-1.0.0/park5.hea  \n",
            " extracting: gait-in-neurodegenerative-disease-database-1.0.0/hunt6.rit  \n",
            " extracting: gait-in-neurodegenerative-disease-database-1.0.0/hunt14.hea-  \n",
            " extracting: gait-in-neurodegenerative-disease-database-1.0.0/als8.let  \n",
            " extracting: gait-in-neurodegenerative-disease-database-1.0.0/als1.let  \n",
            " extracting: gait-in-neurodegenerative-disease-database-1.0.0/park5.let  \n",
            " extracting: gait-in-neurodegenerative-disease-database-1.0.0/park13.rit  \n",
            " extracting: gait-in-neurodegenerative-disease-database-1.0.0/als2.ts  \n",
            " extracting: gait-in-neurodegenerative-disease-database-1.0.0/hunt18.let  \n",
            " extracting: gait-in-neurodegenerative-disease-database-1.0.0/control1.hea  \n",
            " extracting: gait-in-neurodegenerative-disease-database-1.0.0/hunt2.ts  \n",
            " extracting: gait-in-neurodegenerative-disease-database-1.0.0/example-ts.png  \n",
            " extracting: gait-in-neurodegenerative-disease-database-1.0.0/park1.hea  \n",
            " extracting: gait-in-neurodegenerative-disease-database-1.0.0/park15.hea  \n",
            " extracting: gait-in-neurodegenerative-disease-database-1.0.0/control1.ts  \n",
            " extracting: gait-in-neurodegenerative-disease-database-1.0.0/als6.rit  \n",
            " extracting: gait-in-neurodegenerative-disease-database-1.0.0/park12.let  \n",
            " extracting: gait-in-neurodegenerative-disease-database-1.0.0/hunt3.hea  \n",
            " extracting: gait-in-neurodegenerative-disease-database-1.0.0/park8.ts  \n",
            " extracting: gait-in-neurodegenerative-disease-database-1.0.0/control15.ts  \n",
            " extracting: gait-in-neurodegenerative-disease-database-1.0.0/control15.hea  \n",
            " extracting: gait-in-neurodegenerative-disease-database-1.0.0/hunt7.let  \n",
            " extracting: gait-in-neurodegenerative-disease-database-1.0.0/park2.rit  \n",
            " extracting: gait-in-neurodegenerative-disease-database-1.0.0/hunt20.rit  \n",
            " extracting: gait-in-neurodegenerative-disease-database-1.0.0/control13.let  \n",
            " extracting: gait-in-neurodegenerative-disease-database-1.0.0/hunt6.hea-  \n",
            " extracting: gait-in-neurodegenerative-disease-database-1.0.0/control1.hea-  \n",
            " extracting: gait-in-neurodegenerative-disease-database-1.0.0/hunt18.hea-  \n",
            " extracting: gait-in-neurodegenerative-disease-database-1.0.0/hunt13.let  \n",
            " extracting: gait-in-neurodegenerative-disease-database-1.0.0/hunt7.ts  \n",
            " extracting: gait-in-neurodegenerative-disease-database-1.0.0/als13.hea-  \n",
            " extracting: gait-in-neurodegenerative-disease-database-1.0.0/control14.let  \n",
            " extracting: gait-in-neurodegenerative-disease-database-1.0.0/control7.ts  \n",
            " extracting: gait-in-neurodegenerative-disease-database-1.0.0/control9.rit  \n",
            " extracting: gait-in-neurodegenerative-disease-database-1.0.0/hunt9.hea  \n",
            " extracting: gait-in-neurodegenerative-disease-database-1.0.0/control16.hea-  \n",
            " extracting: gait-in-neurodegenerative-disease-database-1.0.0/park5.ts  \n",
            " extracting: gait-in-neurodegenerative-disease-database-1.0.0/hunt4.hea-  \n",
            " extracting: gait-in-neurodegenerative-disease-database-1.0.0/park11.hea-  \n",
            " extracting: gait-in-neurodegenerative-disease-database-1.0.0/hunt12.hea  \n",
            " extracting: gait-in-neurodegenerative-disease-database-1.0.0/hunt18.ts  \n",
            " extracting: gait-in-neurodegenerative-disease-database-1.0.0/als6.let  \n",
            " extracting: gait-in-neurodegenerative-disease-database-1.0.0/park14.let  \n",
            " extracting: gait-in-neurodegenerative-disease-database-1.0.0/als2.hea-  \n",
            " extracting: gait-in-neurodegenerative-disease-database-1.0.0/hunt19.hea  \n",
            " extracting: gait-in-neurodegenerative-disease-database-1.0.0/hunt12.ts  \n",
            " extracting: gait-in-neurodegenerative-disease-database-1.0.0/als10.let  \n",
            " extracting: gait-in-neurodegenerative-disease-database-1.0.0/als9.let  \n",
            " extracting: gait-in-neurodegenerative-disease-database-1.0.0/park9.hea-  \n",
            " extracting: gait-in-neurodegenerative-disease-database-1.0.0/hunt6.ts  \n",
            " extracting: gait-in-neurodegenerative-disease-database-1.0.0/hunt3.ts  \n",
            " extracting: gait-in-neurodegenerative-disease-database-1.0.0/als1.ts  \n",
            " extracting: gait-in-neurodegenerative-disease-database-1.0.0/als5.let  \n",
            " extracting: gait-in-neurodegenerative-disease-database-1.0.0/park15.hea-  \n",
            " extracting: gait-in-neurodegenerative-disease-database-1.0.0/hunt13.ts  \n",
            " extracting: gait-in-neurodegenerative-disease-database-1.0.0/park13.hea  \n",
            " extracting: gait-in-neurodegenerative-disease-database-1.0.0/control3.hea  \n",
            " extracting: gait-in-neurodegenerative-disease-database-1.0.0/park8.hea  \n",
            " extracting: gait-in-neurodegenerative-disease-database-1.0.0/control8.rit  \n",
            " extracting: gait-in-neurodegenerative-disease-database-1.0.0/park14.hea  \n",
            " extracting: gait-in-neurodegenerative-disease-database-1.0.0/hunt9.rit  \n",
            " extracting: gait-in-neurodegenerative-disease-database-1.0.0/als6.ts  \n",
            " extracting: gait-in-neurodegenerative-disease-database-1.0.0/park7.rit  \n",
            " extracting: gait-in-neurodegenerative-disease-database-1.0.0/hunt7.hea  \n",
            " extracting: gait-in-neurodegenerative-disease-database-1.0.0/control13.rit  \n",
            " extracting: gait-in-neurodegenerative-disease-database-1.0.0/park2.let  \n",
            " extracting: gait-in-neurodegenerative-disease-database-1.0.0/control12.rit  \n",
            " extracting: gait-in-neurodegenerative-disease-database-1.0.0/hunt17.ts  \n",
            " extracting: gait-in-neurodegenerative-disease-database-1.0.0/park8.hea-  \n",
            " extracting: gait-in-neurodegenerative-disease-database-1.0.0/park11.rit  \n",
            " extracting: gait-in-neurodegenerative-disease-database-1.0.0/als8.rit  \n",
            " extracting: gait-in-neurodegenerative-disease-database-1.0.0/park1.let  \n",
            " extracting: gait-in-neurodegenerative-disease-database-1.0.0/control6.ts  \n",
            " extracting: gait-in-neurodegenerative-disease-database-1.0.0/als7.rit  \n",
            " extracting: gait-in-neurodegenerative-disease-database-1.0.0/als9.hea-  \n",
            " extracting: gait-in-neurodegenerative-disease-database-1.0.0/park6.let  \n",
            " extracting: gait-in-neurodegenerative-disease-database-1.0.0/control2.ts  \n",
            " extracting: gait-in-neurodegenerative-disease-database-1.0.0/hunt1.hea  \n",
            " extracting: gait-in-neurodegenerative-disease-database-1.0.0/control15.rit  \n",
            " extracting: gait-in-neurodegenerative-disease-database-1.0.0/control1.rit  \n",
            " extracting: gait-in-neurodegenerative-disease-database-1.0.0/control2.hea-  \n",
            " extracting: gait-in-neurodegenerative-disease-database-1.0.0/hunt3.hea-  \n",
            " extracting: gait-in-neurodegenerative-disease-database-1.0.0/als13.ts  \n",
            " extracting: gait-in-neurodegenerative-disease-database-1.0.0/als4.hea-  \n",
            " extracting: gait-in-neurodegenerative-disease-database-1.0.0/park11.ts  \n",
            " extracting: gait-in-neurodegenerative-disease-database-1.0.0/control12.ts  \n",
            " extracting: gait-in-neurodegenerative-disease-database-1.0.0/subject-description.txt  \n",
            " extracting: gait-in-neurodegenerative-disease-database-1.0.0/als12.let  \n",
            " extracting: gait-in-neurodegenerative-disease-database-1.0.0/hunt2.rit  \n",
            " extracting: gait-in-neurodegenerative-disease-database-1.0.0/park5.hea-  \n",
            " extracting: gait-in-neurodegenerative-disease-database-1.0.0/als4.let  \n",
            " extracting: gait-in-neurodegenerative-disease-database-1.0.0/control7.rit  \n",
            " extracting: gait-in-neurodegenerative-disease-database-1.0.0/hunt1.hea-  \n",
            " extracting: gait-in-neurodegenerative-disease-database-1.0.0/control4.hea  \n",
            " extracting: gait-in-neurodegenerative-disease-database-1.0.0/hunt9.ts  \n",
            " extracting: gait-in-neurodegenerative-disease-database-1.0.0/hunt16.hea-  \n",
            " extracting: gait-in-neurodegenerative-disease-database-1.0.0/hunt13.hea-  \n",
            " extracting: gait-in-neurodegenerative-disease-database-1.0.0/control9.hea  \n",
            " extracting: gait-in-neurodegenerative-disease-database-1.0.0/als7.ts  \n",
            " extracting: gait-in-neurodegenerative-disease-database-1.0.0/park1.rit  \n",
            " extracting: gait-in-neurodegenerative-disease-database-1.0.0/als1.hea  \n",
            " extracting: gait-in-neurodegenerative-disease-database-1.0.0/control10.rit  \n",
            " extracting: gait-in-neurodegenerative-disease-database-1.0.0/hunt9.let  \n",
            " extracting: gait-in-neurodegenerative-disease-database-1.0.0/als3.rit  \n",
            " extracting: gait-in-neurodegenerative-disease-database-1.0.0/control9.let  \n",
            " extracting: gait-in-neurodegenerative-disease-database-1.0.0/park8.let  \n",
            " extracting: gait-in-neurodegenerative-disease-database-1.0.0/park3.rit  \n",
            " extracting: gait-in-neurodegenerative-disease-database-1.0.0/control10.let  \n",
            " extracting: gait-in-neurodegenerative-disease-database-1.0.0/hunt11.ts  \n",
            " extracting: gait-in-neurodegenerative-disease-database-1.0.0/park14.rit  \n",
            " extracting: gait-in-neurodegenerative-disease-database-1.0.0/park3.let  \n",
            " extracting: gait-in-neurodegenerative-disease-database-1.0.0/als1.hea-  \n",
            " extracting: gait-in-neurodegenerative-disease-database-1.0.0/als5.hea  \n",
            " extracting: gait-in-neurodegenerative-disease-database-1.0.0/hunt14.let  \n",
            " extracting: gait-in-neurodegenerative-disease-database-1.0.0/hunt2.hea  \n",
            " extracting: gait-in-neurodegenerative-disease-database-1.0.0/park3.hea  \n",
            " extracting: gait-in-neurodegenerative-disease-database-1.0.0/TEST.shtml  \n",
            " extracting: gait-in-neurodegenerative-disease-database-1.0.0/park10.let  \n",
            " extracting: gait-in-neurodegenerative-disease-database-1.0.0/park1.hea-  \n",
            " extracting: gait-in-neurodegenerative-disease-database-1.0.0/hunt20.ts  \n",
            " extracting: gait-in-neurodegenerative-disease-database-1.0.0/als2.hea  \n",
            " extracting: gait-in-neurodegenerative-disease-database-1.0.0/control11.hea-  \n",
            " extracting: gait-in-neurodegenerative-disease-database-1.0.0/control12.let  \n",
            " extracting: gait-in-neurodegenerative-disease-database-1.0.0/park1.ts  \n",
            " extracting: gait-in-neurodegenerative-disease-database-1.0.0/control2.rit  \n",
            " extracting: gait-in-neurodegenerative-disease-database-1.0.0/park10.ts  \n",
            " extracting: gait-in-neurodegenerative-disease-database-1.0.0/als6.hea-  \n",
            " extracting: gait-in-neurodegenerative-disease-database-1.0.0/control5.let  \n",
            " extracting: gait-in-neurodegenerative-disease-database-1.0.0/hunt2.hea-  \n",
            " extracting: gait-in-neurodegenerative-disease-database-1.0.0/park12.rit  \n",
            " extracting: gait-in-neurodegenerative-disease-database-1.0.0/control3.let  \n",
            " extracting: gait-in-neurodegenerative-disease-database-1.0.0/park12.hea-  \n",
            " extracting: gait-in-neurodegenerative-disease-database-1.0.0/als5.rit  \n",
            " extracting: gait-in-neurodegenerative-disease-database-1.0.0/park6.hea  \n",
            " extracting: gait-in-neurodegenerative-disease-database-1.0.0/park2.ts  \n",
            " extracting: gait-in-neurodegenerative-disease-database-1.0.0/als11.hea-  \n",
            " extracting: gait-in-neurodegenerative-disease-database-1.0.0/als8.ts  \n",
            " extracting: gait-in-neurodegenerative-disease-database-1.0.0/hunt19.let  \n",
            " extracting: gait-in-neurodegenerative-disease-database-1.0.0/hunt19.hea-  \n",
            " extracting: gait-in-neurodegenerative-disease-database-1.0.0/hunt4.rit  \n",
            " extracting: gait-in-neurodegenerative-disease-database-1.0.0/park12.hea  \n",
            " extracting: gait-in-neurodegenerative-disease-database-1.0.0/als3.hea  \n",
            " extracting: gait-in-neurodegenerative-disease-database-1.0.0/hunt11.rit  \n",
            " extracting: gait-in-neurodegenerative-disease-database-1.0.0/control11.let  \n",
            " extracting: gait-in-neurodegenerative-disease-database-1.0.0/park7.hea  \n",
            " extracting: gait-in-neurodegenerative-disease-database-1.0.0/control15.hea-  \n",
            " extracting: gait-in-neurodegenerative-disease-database-1.0.0/control8.ts  \n",
            " extracting: gait-in-neurodegenerative-disease-database-1.0.0/hunt10.let  \n",
            " extracting: gait-in-neurodegenerative-disease-database-1.0.0/control11.hea  \n",
            " extracting: gait-in-neurodegenerative-disease-database-1.0.0/control14.hea  \n",
            " extracting: gait-in-neurodegenerative-disease-database-1.0.0/als3.let  \n",
            " extracting: gait-in-neurodegenerative-disease-database-1.0.0/control4.hea-  \n",
            " extracting: gait-in-neurodegenerative-disease-database-1.0.0/control10.hea  \n",
            " extracting: gait-in-neurodegenerative-disease-database-1.0.0/hunt9.hea-  \n",
            " extracting: gait-in-neurodegenerative-disease-database-1.0.0/hunt16.let  \n",
            " extracting: gait-in-neurodegenerative-disease-database-1.0.0/hunt1.let  \n",
            " extracting: gait-in-neurodegenerative-disease-database-1.0.0/control2.let  \n",
            " extracting: gait-in-neurodegenerative-disease-database-1.0.0/als10.ts  \n",
            " extracting: gait-in-neurodegenerative-disease-database-1.0.0/park13.let  \n",
            " extracting: gait-in-neurodegenerative-disease-database-1.0.0/park11.hea  \n"
          ],
          "name": "stdout"
        }
      ]
    },
    {
      "cell_type": "code",
      "metadata": {
        "id": "8YhQTnlg7W8Q",
        "colab": {
          "base_uri": "https://localhost:8080/",
          "height": 649
        },
        "outputId": "6e26cff5-7128-4575-d7e6-1b5c00628af9"
      },
      "source": [
        "!pip install wfdb #Se instala biblioteca para leer, escribir y procesar señales."
      ],
      "execution_count": null,
      "outputs": [
        {
          "output_type": "stream",
          "text": [
            "Collecting wfdb\n",
            "\u001b[?25l  Downloading https://files.pythonhosted.org/packages/b1/a0/922d06ec737e219a9f45545432842e68a84e8b52f292704056eea1d35e41/wfdb-3.1.1.tar.gz (113kB)\n",
            "\u001b[K     |████████████████████████████████| 122kB 2.8MB/s \n",
            "\u001b[?25hRequirement already satisfied: certifi>=2016.8.2 in /usr/local/lib/python3.6/dist-packages (from wfdb) (2020.6.20)\n",
            "Requirement already satisfied: chardet>=3.0.0 in /usr/local/lib/python3.6/dist-packages (from wfdb) (3.0.4)\n",
            "Requirement already satisfied: cycler>=0.10.0 in /usr/local/lib/python3.6/dist-packages (from wfdb) (0.10.0)\n",
            "Requirement already satisfied: idna>=2.2 in /usr/local/lib/python3.6/dist-packages (from wfdb) (2.10)\n",
            "Requirement already satisfied: joblib>=0.11 in /usr/local/lib/python3.6/dist-packages (from wfdb) (0.16.0)\n",
            "Requirement already satisfied: kiwisolver>=1.1.0 in /usr/local/lib/python3.6/dist-packages (from wfdb) (1.2.0)\n",
            "Requirement already satisfied: matplotlib>=2.0.0 in /usr/local/lib/python3.6/dist-packages (from wfdb) (3.2.2)\n",
            "Collecting mne>=0.18.0\n",
            "\u001b[?25l  Downloading https://files.pythonhosted.org/packages/c9/0d/ba12e84feae362d9808e51aa4e3d96a148db9a047e13e51bb070016fa1ab/mne-0.21.0-py3-none-any.whl (6.8MB)\n",
            "\u001b[K     |████████████████████████████████| 6.8MB 11.1MB/s \n",
            "\u001b[?25hCollecting nose>=1.3.7\n",
            "\u001b[?25l  Downloading https://files.pythonhosted.org/packages/15/d8/dd071918c040f50fa1cf80da16423af51ff8ce4a0f2399b7bf8de45ac3d9/nose-1.3.7-py3-none-any.whl (154kB)\n",
            "\u001b[K     |████████████████████████████████| 163kB 32.8MB/s \n",
            "\u001b[?25hRequirement already satisfied: numpy>=1.10.1 in /usr/local/lib/python3.6/dist-packages (from wfdb) (1.18.5)\n",
            "Requirement already satisfied: pandas>=0.17.0 in /usr/local/lib/python3.6/dist-packages (from wfdb) (1.1.2)\n",
            "Requirement already satisfied: pyparsing>=2.0.4 in /usr/local/lib/python3.6/dist-packages (from wfdb) (2.4.7)\n",
            "Requirement already satisfied: python-dateutil>=2.4.2 in /usr/local/lib/python3.6/dist-packages (from wfdb) (2.8.1)\n",
            "Requirement already satisfied: pytz>=2018.3 in /usr/local/lib/python3.6/dist-packages (from wfdb) (2018.9)\n",
            "Requirement already satisfied: requests>=2.8.1 in /usr/local/lib/python3.6/dist-packages (from wfdb) (2.23.0)\n",
            "Requirement already satisfied: scikit-learn>=0.18 in /usr/local/lib/python3.6/dist-packages (from wfdb) (0.22.2.post1)\n",
            "Requirement already satisfied: scipy>=0.17.0 in /usr/local/lib/python3.6/dist-packages (from wfdb) (1.4.1)\n",
            "Requirement already satisfied: six>=0.9.0 in /usr/local/lib/python3.6/dist-packages (from wfdb) (1.15.0)\n",
            "Requirement already satisfied: sklearn>=0.0 in /usr/local/lib/python3.6/dist-packages (from wfdb) (0.0)\n",
            "Collecting threadpoolctl>=1.0.0\n",
            "  Downloading https://files.pythonhosted.org/packages/f7/12/ec3f2e203afa394a149911729357aa48affc59c20e2c1c8297a60f33f133/threadpoolctl-2.1.0-py3-none-any.whl\n",
            "Requirement already satisfied: urllib3>=1.22 in /usr/local/lib/python3.6/dist-packages (from wfdb) (1.24.3)\n",
            "Building wheels for collected packages: wfdb\n",
            "  Building wheel for wfdb (setup.py) ... \u001b[?25l\u001b[?25hdone\n",
            "  Created wheel for wfdb: filename=wfdb-3.1.1-cp36-none-any.whl size=117828 sha256=185e3c9bf24e9f4d59f5121ecbf0615241fdecad4dd88361013a9bd75a51b170\n",
            "  Stored in directory: /root/.cache/pip/wheels/bc/d0/c1/90538d266ccba2d1076fbc9970192c7ea1a09c99df3e65c69b\n",
            "Successfully built wfdb\n",
            "Installing collected packages: mne, nose, threadpoolctl, wfdb\n",
            "Successfully installed mne-0.21.0 nose-1.3.7 threadpoolctl-2.1.0 wfdb-3.1.1\n"
          ],
          "name": "stdout"
        }
      ]
    },
    {
      "cell_type": "markdown",
      "metadata": {
        "id": "0niQMION8AJo"
      },
      "source": [
        "# Carga y visualización de datos"
      ]
    },
    {
      "cell_type": "code",
      "metadata": {
        "id": "sTpRssqR8LT7"
      },
      "source": [
        "#Se importan las librerias wfdb, numpy, matplotlib y pandas.\n",
        "import wfdb\n",
        "import numpy as np\n",
        "import matplotlib.pyplot as plt\n",
        "import pandas as pd\n",
        "import warnings \n",
        "import glob #Se importa la libreria 'glob'.\n",
        "warnings.filterwarnings(\"ignore\") #Se ignoran las alertas para mejorar la visualización.\n",
        "\n",
        "#Se leen los datos de la carpeta 'senales' y se extraen los archivos de series de tiempo para control1, als5, park11 y hunt10.\n",
        "names = ['time','LSI','RSI','LSwI','RSwI','LSIp','RSIp','LStI','RStI','LStIp','RStIp','DSI','DSIp']\n",
        "control = glob.glob('/content/senales/control*ts') #Se cargan los archivos correspondientes a los pacientes control.\n",
        "als = glob.glob('/content/senales/als*ts') #Se cargan los archivos correspondientes a los pacientes con ELA.\n",
        "hunt = glob.glob('/content/senales/hunt*ts') #Se cargan los archivos correspondientes a los pacientes con enfermedad de Huntington.\n",
        "park = glob.glob('/content/senales/park*ts') #Se cargan los archivos correspondientes a los pacientes con Parkinson.\n",
        "\n",
        "#Se leen los datos de un sujeto aleatorio por cada grupo de datos\n",
        "control1 = pd.read_csv(\"/content/senales/control1.ts\",sep='\\t',names=names)\n",
        "als6 = pd.read_csv(\"/content/senales/als6.ts\",sep='\\t',names=names) \n",
        "park11 = pd.read_csv(\"/content/senales/park11.ts\",sep='\\t',names=names)  \n",
        "hunt10 = pd.read_csv(\"/content/senales/hunt10.ts\",sep='\\t',names=names) "
      ],
      "execution_count": null,
      "outputs": []
    },
    {
      "cell_type": "markdown",
      "metadata": {
        "id": "5cxL2kgXVkzr"
      },
      "source": [
        "**Filtrado de las señales**"
      ]
    },
    {
      "cell_type": "markdown",
      "metadata": {
        "id": "vZDfdrRdvDDO"
      },
      "source": [
        "En el proceso de análisis de datos, el filtrado es un procedimiento de vital importancia puesto que permite la eliminación de datos atípicos de las muestras a procesar y en el caso de la marcha, es posible encontrar este tipo de datos debido a fallas en los sensores e instrumentos de medición y a la variaciones en la velocidad de la marcha en el momento de despegar avanzar o apoyar el pie en el suelo. \n",
        "\n",
        "Por otro lado, cabe resaltar que la base de datos proporciona las señales sin los primeros 20 segundos de marcha para minimizar los efectos de inicio que proporcionan una mayor probabilidad de error en la señal.\n"
      ]
    },
    {
      "cell_type": "code",
      "metadata": {
        "id": "VF37kyib2bg2"
      },
      "source": [
        "#Definición de función que filtra las señales\n",
        "def hampel(signal, window_size, threshold):\n",
        "  #desarrollado por LeoBAHM\n",
        "  #Obtenemos la dimensión del arreglo\n",
        "  samples = signal.shape[0]\n",
        "  #Distribución Gaussiana\n",
        "  k = 1.4826\n",
        "  #Creamos una copia de la señal que se irá modificando conforme se hallen\n",
        "  #valores atípicos\n",
        "  signal_copy = signal.copy()\n",
        "  #Lista que almacenará las posiciones de los valores ajustados\n",
        "  index = []\n",
        "  \n",
        "  #Construcción del filtro a partir del modelo matemático\n",
        "  for i in range(window_size, samples-window_size):\n",
        "    #Ventana deslizante\n",
        "    window = signal[(i-window_size):(i+window_size)]\n",
        "    #Cálculo del DMA\n",
        "    Sk = k * np.median(np.abs(window - np.median(window)))\n",
        "    #Determinamos si el punto supera el umbral establecido\n",
        "    if np.abs(signal[i] - np.median(window)) > threshold * Sk:\n",
        "      #Si lo supera, asignamos el valor de la mediana de la ventana\n",
        "      signal_copy[i] = np.median(window)\n",
        "      #Guardamos la posición del valor modificado\n",
        "      index.append(i)\n",
        "  return signal_copy "
      ],
      "execution_count": null,
      "outputs": []
    },
    {
      "cell_type": "markdown",
      "metadata": {
        "id": "rdg2sHV-YMQt"
      },
      "source": [
        "**Ejemplo de prueba de la función hampel sobre un sujeto específico**"
      ]
    },
    {
      "cell_type": "markdown",
      "metadata": {
        "id": "AWKF_6m0vK40"
      },
      "source": [
        "Para visualizar el funcionamiento del filtrado, se eligió un sujeto control aleatorio y se realizó la comparación entre su señal cruda y filtrada del intervalo de su zancada izquierda, observando que efectivamente se eliminan los picos atipicos de la señal.\n",
        "\n",
        "Se hicieron pruebas de escritorio para verificar que el funcionamiento del filtro fuese adecuado para los sujetos control y los pacientes con parkinson, esclerosis lateral amiotrófica (ELA) y Huntington encontrando unos valores de umbral efectivos."
      ]
    },
    {
      "cell_type": "code",
      "metadata": {
        "id": "MdyLMI-GVenS",
        "colab": {
          "base_uri": "https://localhost:8080/",
          "height": 295
        },
        "outputId": "b0867317-97f8-44b0-b56f-3daddcea2906"
      },
      "source": [
        "#Se extraen los datos de todos los personas \"CONTROL\", se convierten a numpy y posteriormente se filtran.\n",
        "CONTROL=[control]\n",
        "c_fl=[]\n",
        "c_fr=[]\n",
        "L=[]\n",
        "R=[]\n",
        "t=[]\n",
        "e=0\n",
        "for ad in CONTROL:\n",
        "  for archivo in CONTROL[e]:\n",
        "    datos = pd.read_csv(archivo,sep='\\t',names=names) #Se leen los archivos \n",
        "    #Se convierten los datos de 'Series' a numpy\n",
        "    LSI_ = datos['LSI'].to_numpy() \n",
        "    RSI_=datos['RSI'].to_numpy()\n",
        "    tiempo=datos['time'].to_numpy()\n",
        "    #Se llama la función \"hampel\", que filtra las señales \"LSI\" y \"RSI\" de control.\n",
        "    LSI=hampel(LSI_,5,3)\n",
        "    c_fl.append(LSI)\n",
        "    L.append(LSI_)\n",
        "    RSI=hampel(RSI_,5,3)\n",
        "    c_fr.append(RSI)\n",
        "    R.append(RSI_)\n",
        "    t.append(tiempo)\n",
        "  e=e+1\n",
        "DATA_FRAMEc=pd.DataFrame({'LSI':pd.Series(c_fl),'RSI':pd.Series(c_fr),'Tiempo':pd.Series(t)})\n",
        "\n",
        "#Ejemplo de filtrado para el sujeto control 4.\n",
        "plt.subplot(2,1,1)\n",
        "plt.title('Señal LSI del sujeto control 4')\n",
        "plt.plot(t[4],c_fl[4])\n",
        "plt.ylabel('LSI')\n",
        "plt.legend('F')\n",
        "plt.subplot(2,1,2)\n",
        "plt.plot(t[4],L[4])\n",
        "plt.xlabel('Tiempo')\n",
        "plt.ylabel('LSI')\n",
        "plt.legend('NF')\n",
        "plt.show()\n"
      ],
      "execution_count": null,
      "outputs": [
        {
          "output_type": "display_data",
          "data": {
            "image/png": "[encoded data removed]",
            "text/plain": [
              "<Figure size 432x288 with 2 Axes>"
            ]
          },
          "metadata": {
            "tags": [],
            "needs_background": "light"
          }
        }
      ]
    },
    {
      "cell_type": "markdown",
      "metadata": {
        "id": "4SVc31pCJmJV"
      },
      "source": [
        "**Rutina de fluctuaciones de magnitud**\n",
        "\n",
        "\n"
      ]
    },
    {
      "cell_type": "markdown",
      "metadata": {
        "id": "QSyMijM-CoN8"
      },
      "source": [
        "A continuación se definen funciones para calcular los indices de fluctuación de magnitud que posteriormente serán de utilidad en el análisis de las señales procesadas."
      ]
    },
    {
      "cell_type": "markdown",
      "metadata": {
        "id": "XehhJXtfPssF"
      },
      "source": [
        "1. Cálculo del coeficiente de variación"
      ]
    },
    {
      "cell_type": "code",
      "metadata": {
        "id": "c-gM0kikQLJL"
      },
      "source": [
        "#Se define una función que realiza el cálculo del coeficiente de la señal LSI.\n",
        "def coef_varl(lsi):\n",
        "  #Pie izquierdo\n",
        "  DE1=np.std(lsi) #Calculo de la desviación estandar de la señal LSI.\n",
        "  mean1=np.mean(lsi) #Cálculo de la media de la señal LSI.\n",
        "  CV1=100*DE1/mean1 #Cálculo del coeficiente de variación. \n",
        "  return CV1"
      ],
      "execution_count": null,
      "outputs": []
    },
    {
      "cell_type": "code",
      "metadata": {
        "id": "FmXDaBFol1Gs"
      },
      "source": [
        "#Se recrea la función anterior para la señal RSI.\n",
        "def coef_varr(rsi):\n",
        "  #Pie derecho\n",
        "  DE2=np.std(rsi)\n",
        "  mean2=np.mean(rsi)\n",
        "  CV2=100*DE2/mean2\n",
        "  return CV2"
      ],
      "execution_count": null,
      "outputs": []
    },
    {
      "cell_type": "markdown",
      "metadata": {
        "id": "Ws3HobHhDW4S"
      },
      "source": [
        "La definición de estas funciones entrega como resultado la relación entre el tamaño de la media y la variabilidad de los datos de la señal procesada."
      ]
    },
    {
      "cell_type": "markdown",
      "metadata": {
        "id": "T4U_T-DKPuXG"
      },
      "source": [
        "2. Cálculo de la desviación estándar sin tendencia"
      ]
    },
    {
      "cell_type": "code",
      "metadata": {
        "id": "lBQVVW8jP9jv"
      },
      "source": [
        "#Se define la función que realiza la desviación estándar sin tendencia para la señal LSI. \n",
        "def DS_tl(lsi,time):\n",
        "  ds_t_l=np.diff(lsi,n=1) #Se deriva la señal LSI para obtener la señal sin tendencia.\n",
        "  time_diff=time[0:ds_t_l.shape[0]] #Se limita el rango del tiempo hasta la longitud de la señal derivada. \n",
        "  dsl=np.std(ds_t_l) #Se calcula la desviación estándar sin tendencia de la señal derivada. \n",
        "  return dsl"
      ],
      "execution_count": null,
      "outputs": []
    },
    {
      "cell_type": "code",
      "metadata": {
        "id": "Nv_Ab-BbnjRx"
      },
      "source": [
        "#Se recrea la función anterior para la señal RSI. \n",
        "def DS_tr(rsi,time):\n",
        "  ds_t_r=np.diff(rsi,n=1)\n",
        "  time_diff=time[0:ds_t_r.shape[0]]\n",
        "  dsr=np.std(ds_t_r)\n",
        "  return dsr"
      ],
      "execution_count": null,
      "outputs": []
    },
    {
      "cell_type": "markdown",
      "metadata": {
        "id": "Mq-PagzFElrd"
      },
      "source": [
        "Determinar el valor de la desviación estandar sin tendencia, permite cuantificar la dispersión de los datos de la señal sin tener en cuenta la tendencia de los mismos."
      ]
    },
    {
      "cell_type": "markdown",
      "metadata": {
        "id": "4wcmhgj5Zcrt"
      },
      "source": [
        "**Rutinas de dinámica de la fluctuación**"
      ]
    },
    {
      "cell_type": "markdown",
      "metadata": {
        "id": "zogcJ_lBDJjL"
      },
      "source": [
        "A continuación se definen funciones para calcular los indices de dinámica de fluctuación que posteriormente serán de utilidad en el análisis de las señales procesadas."
      ]
    },
    {
      "cell_type": "markdown",
      "metadata": {
        "id": "nTmNrKNIZpRO"
      },
      "source": [
        "1. Coeficiente de noestacionariedad"
      ]
    },
    {
      "cell_type": "code",
      "metadata": {
        "id": "HKB56v-BZ9PV"
      },
      "source": [
        "#Se define la función para realizar el cálculo del coeficiente de noestacionariedad para la señal LSI.\n",
        "def NSI_l(lsi):\n",
        "  lsi_100=lsi[0:100] #Se toman los 100 primeros puntos de la señal.\n",
        "  desv_lsi=np.std(lsi_100) #Se calcula la desviación estándar de los 100 primeros datos.\n",
        "  media_lsi=np.mean(lsi_100) #Se calcula la media de los 100 primeros datos \n",
        "  norml=(lsi_100-media_lsi)/desv_lsi #Se normaliza la señal. \n",
        "  l=0\n",
        "  prom_local_l=[]\n",
        "  for t in range(0,20):\n",
        "    x= norml[l:l+5] #Se divide la señal normalizada en 20 partes iguales.\n",
        "    x1=np.mean(x) #Se calcula la media local\n",
        "    prom_local_l.append(x1) \n",
        "    l=l+5 \n",
        "  nsi_l=np.std(prom_local_l) #Se calcula la desviación estándar de los promedios locales. \n",
        "  return nsi_l\n",
        " "
      ],
      "execution_count": null,
      "outputs": []
    },
    {
      "cell_type": "code",
      "metadata": {
        "id": "0vnFBgqjqJwG"
      },
      "source": [
        "#Se recrea la función anterior para la señal RSI.\n",
        "def NSI_r(rsi):\n",
        "  #Normalización derecha\n",
        "  rsi_100=rsi[0:100]\n",
        "  desv_rsi=np.std(rsi_100)\n",
        "  media_rsi=np.mean(rsi_100)\n",
        "  normr=(rsi_100-media_rsi)/desv_rsi\n",
        "  \n",
        "  m=0\n",
        "  prom_local_r=[]\n",
        "  for h in range(0,20):\n",
        "    y= normr[m:m+5]#Se divide norml en 20 partes iguales\n",
        "    y1=np.mean(y)\n",
        "    prom_local_r.append(y1)\n",
        "    m=m+5\n",
        "  nsi_r=np.std(prom_local_r)\n",
        " \n",
        "  return nsi_r"
      ],
      "execution_count": null,
      "outputs": []
    },
    {
      "cell_type": "markdown",
      "metadata": {
        "id": "tWMtfZspGJWu"
      },
      "source": [
        "La determinación del coeficiente de no estacionariedad permite estimar como cambia el promedio local con el tiempo.\n",
        "\n",
        "Para esto se tomaron los 100 primeros puntos de las señales con el fin de minimizar los efectos de las diferencias de un sujeto a otro en la longitud, la media o la varianza de los datos [1]. A demás la señal fue normalizada con respecto a su media y desviación estandar para ajustar los valores.\n",
        "\n",
        "Para calcularla se tomaron 20 segmentos y a estos se le calcularon los promedios locales y para  estimar la dispersión de estas medias locales normalizadas se calculó la desviación estandar de los promedios locales.\n",
        "\n"
      ]
    },
    {
      "cell_type": "code",
      "metadata": {
        "id": "8v0bfC9lt42U"
      },
      "source": [
        "#Se define una función que calcula el coeficiente de inconsistencia de la varianza para la señal LSI.\n",
        "def INC_l(lsi):\n",
        "  lsi_100=lsi[0:100] #Se toman los 100 primero datos de la señal LSI.\n",
        "  desv_lsi=np.std(lsi_100) #Se calcula la desviación estándar de los 100 primeros datos. \n",
        "  media_lsi=np.mean(lsi_100) #Se calcula el promedio de los 100 primeros datos.\n",
        "  norml=(lsi_100-media_lsi)/desv_lsi # Se normaliza la señal.\n",
        "  l=0\n",
        "  desv_local_l=[]\n",
        "  for t in range(0,20):\n",
        "    x= norml[l:l+5] #Se divide la señal normalizada en 20 partes iguales.\n",
        "    x2=np.std(x) #Se calcula la desviación estándar de la señal normalizada.\n",
        "    desv_local_l.append(x2) \n",
        "    l=l+5 \n",
        "  inc_vl=np.std(desv_local_l) #Se calcula la desviación estándar de las desviaciones locales.  \n",
        "  return inc_vl"
      ],
      "execution_count": null,
      "outputs": []
    },
    {
      "cell_type": "code",
      "metadata": {
        "id": "JBOLL9Fpu9F1"
      },
      "source": [
        "#Se recrea la función anterior para la señal RSI.\n",
        "def INC_r(rsi):\n",
        "  rsi_100=rsi[0:100]\n",
        "  desv_rsi=np.std(rsi_100)\n",
        "  media_rsi=np.mean(rsi_100)\n",
        "  normr=(rsi_100-media_rsi)/desv_rsi\n",
        "  m=0\n",
        "  desv_local_r=[]\n",
        "  for h in range(0,20):\n",
        "    y= normr[m:m+5]#Se divide norml en 20 partes iguales\n",
        "    y2=np.std(y)\n",
        "    desv_local_r.append(y2)\n",
        "    m=m+5\n",
        "  inc_vr=np.std(desv_local_r)\n",
        "  return inc_vr"
      ],
      "execution_count": null,
      "outputs": []
    },
    {
      "cell_type": "markdown",
      "metadata": {
        "id": "PLYdbmFxKRhu"
      },
      "source": [
        "El cálculo de la inconsistencia de la varianza sirve para estimar la dispersión de la varianza local, la cual es independiente de la varianza general de los datos de la señal.\n",
        "\n",
        "Para calcularla se tomaron 20 segmentos y a estos se le calcularon las desviaciones estandar local y para  estimar como cambiaba la desviación estandar local con el tiempo, se calculó la desviación estandar de estas."
      ]
    },
    {
      "cell_type": "markdown",
      "metadata": {
        "id": "RU5RYI5SO1GK"
      },
      "source": [
        "# **Correspondencia entre la teoría y lo obtenido por los índices**"
      ]
    },
    {
      "cell_type": "code",
      "metadata": {
        "id": "1FBkURRObJ9E"
      },
      "source": [
        "#Función que permite una mejor visualización de los DataFrame\n",
        "def displaydf(dataframe, cols = None, rows = None):\n",
        "    with pd.option_context(\"display.max_columns\", cols):\n",
        "        with pd.option_context(\"display.max_rows\", rows):\n",
        "            display(dataframe)\n",
        "    return True"
      ],
      "execution_count": null,
      "outputs": []
    },
    {
      "cell_type": "markdown",
      "metadata": {
        "id": "UQ5ynXWOe9OJ"
      },
      "source": [
        "**Prueba de las funciones para la aplicación de rutinas de fluctuación de magnitud y de dinámica de fluctuación**"
      ]
    },
    {
      "cell_type": "code",
      "metadata": {
        "id": "x7bbD-3rZiQz",
        "colab": {
          "base_uri": "https://localhost:8080/",
          "height": 405
        },
        "outputId": "a434ba16-78df-4c59-90ce-c332e06f795a"
      },
      "source": [
        "# Se extraen los datos de sujetos aleatorios para verificar el funcionamiento de las funciones definidas anteriormente.\n",
        "\n",
        "#Extracción datos sujetos control 1\n",
        "time_c1 = control1['time'].to_numpy()\n",
        "LSI_c1 = control1['LSI'].to_numpy()\n",
        "RSI_c1 = control1['RSI'].to_numpy()\n",
        "\n",
        "#Extracción datos paciente 6 con ELA \n",
        "time_als6 = als6['time'].to_numpy()\n",
        "LSI_als6 = als6['LSI'].to_numpy()\n",
        "RSI_als6 = als6['RSI'].to_numpy()\n",
        "\n",
        "#Extracción datos paciente 11 con Parkinson \n",
        "time_park11 = park11['time'].to_numpy()\n",
        "LSI_park11 = park11['LSI'].to_numpy()\n",
        "RSI_park11= park11['RSI'].to_numpy()\n",
        "\n",
        "#Extracción datos paciente 10 con Huntington \n",
        "time_hunt10 = hunt10['time'].to_numpy()\n",
        "LSI_hunt10 = hunt10['LSI'].to_numpy()\n",
        "RSI_hunt10 = hunt10['RSI'].to_numpy()\n",
        "\n",
        "#Ejemplo sujeto 1 control\n",
        "c1lf=hampel(LSI_c1,5,3)\n",
        "a=coef_varl(c1lf)\n",
        "c1rf=hampel(RSI_c1,5,3)\n",
        "b=coef_varr(c1rf)\n",
        "c=DS_tl(c1lf,time_c1)\n",
        "d=DS_tr(c1rf,time_c1)\n",
        "f=NSI_l(c1lf)\n",
        "g=NSI_r(c1rf)\n",
        "h=INC_l(c1lf)\n",
        "n=INC_r(c1rf)\n",
        "CDATA=pd.DataFrame({'CV LSI':pd.Series(a),'CV RSI':pd.Series(b),'DEs LSI':pd.Series(c),'DEs RSI':pd.Series(d),'NSI LSI':pd.Series(f),'NSI RSI':pd.Series(g),'INC LSI':pd.Series(h),'INC RSI':pd.Series(n)})\n",
        "print('Los índices para el sujeto 1 de control son:')\n",
        "CDATA=displaydf(CDATA)\n",
        "print(CDATA)\n",
        "\n",
        "#Ejemplo paciente 6 con ELA \n",
        "als6lf=hampel(LSI_als6,5,3)\n",
        "a=coef_varl(als6lf)\n",
        "als6rf=hampel(RSI_als6,5,3)\n",
        "b=coef_varr(als6rf)\n",
        "c=DS_tl(als6lf,time_als6)\n",
        "d=DS_tr(als6rf,time_als6)\n",
        "f=NSI_l(als6lf)\n",
        "g=NSI_r(als6rf)\n",
        "h=INC_l(als6lf)\n",
        "n=INC_r(als6rf)\n",
        "ELADATA=pd.DataFrame({'CV LSI':pd.Series(a),'CV RSI':pd.Series(b),'DEs LSI':pd.Series(c),'DEs RSI':pd.Series(d),'NSI LSI':pd.Series(f),'NSI RSI':pd.Series(g),'INC LSI':pd.Series(h),'INC RSI':pd.Series(n)})\n",
        "print('Los índices para el paciente 6 con ELA son:')\n",
        "ELADATA=displaydf(ELADATA)\n",
        "print(ELADATA)\n",
        "\n",
        "#Ejemplo paciente 11 con Parkinson \n",
        "p11lf=hampel(LSI_park11,5,3)\n",
        "a=coef_varl(p11lf)\n",
        "p11rf=hampel(RSI_park11,5,3)\n",
        "b=coef_varr(p11rf)\n",
        "c=DS_tl(p11lf,time_park11)\n",
        "d=DS_tr(p11rf,time_park11)\n",
        "f=NSI_l(p11lf)\n",
        "g=NSI_r(p11rf)\n",
        "h=INC_l(p11lf)\n",
        "n=INC_r(p11rf)\n",
        "PDATA=pd.DataFrame({'CV LSI':pd.Series(a),'CV RSI':pd.Series(b),'DEs LSI':pd.Series(c),'DEs RSI':pd.Series(d),'NSI LSI':pd.Series(f),'NSI RSI':pd.Series(g),'INC LSI':pd.Series(h),'INC RSI':pd.Series(n)})\n",
        "print('Los índices para el paciente 11 con Parkinson son:')\n",
        "PDATA=displaydf(PDATA)\n",
        "print(PDATA)\n",
        "\n",
        "#Ejemplo paciente 10 con Huntington\n",
        "h10lf=hampel(LSI_hunt10,5,3)\n",
        "a=coef_varl(h10lf)\n",
        "h10rf=hampel(RSI_hunt10,5,3)\n",
        "b=coef_varr(h10rf)\n",
        "c=DS_tl(h10lf,time_hunt10)\n",
        "d=DS_tr(h10rf,time_hunt10)\n",
        "f=NSI_l(h10lf)\n",
        "g=NSI_r(h10rf)\n",
        "h=INC_l(h10lf)\n",
        "n=INC_r(h10rf)\n",
        "HDATA=pd.DataFrame({'CV LSI':pd.Series(a),'CV RSI':pd.Series(b),'DEs LSI':pd.Series(c),'DEs RSI':pd.Series(d),'NSI LSI':pd.Series(f),'NSI RSI':pd.Series(g),'INC LSI':pd.Series(h),'INC RSI':pd.Series(n)})\n",
        "print('Los índices para el paciente 10 con Huntington son:')\n",
        "HDATA=displaydf(HDATA)\n",
        "print(HDATA)\n"
      ],
      "execution_count": null,
      "outputs": [
        {
          "output_type": "stream",
          "text": [
            "Los índices para el sujeto 1 de control son:\n"
          ],
          "name": "stdout"
        },
        {
          "output_type": "display_data",
          "data": {
            "text/html": [
              "<div>\n",
              "<style scoped>\n",
              "    .dataframe tbody tr th:only-of-type {\n",
              "        vertical-align: middle;\n",
              "    }\n",
              "\n",
              "    .dataframe tbody tr th {\n",
              "        vertical-align: top;\n",
              "    }\n",
              "\n",
              "    .dataframe thead th {\n",
              "        text-align: right;\n",
              "    }\n",
              "</style>\n",
              "<table border=\"1\" class=\"dataframe\">\n",
              "  <thead>\n",
              "    <tr style=\"text-align: right;\">\n",
              "      <th></th>\n",
              "      <th>CV LSI</th>\n",
              "      <th>CV RSI</th>\n",
              "      <th>DEs LSI</th>\n",
              "      <th>DEs RSI</th>\n",
              "      <th>NSI LSI</th>\n",
              "      <th>NSI RSI</th>\n",
              "      <th>INC LSI</th>\n",
              "      <th>INC RSI</th>\n",
              "    </tr>\n",
              "  </thead>\n",
              "  <tbody>\n",
              "    <tr>\n",
              "      <th>0</th>\n",
              "      <td>3.078522</td>\n",
              "      <td>3.005334</td>\n",
              "      <td>0.030629</td>\n",
              "      <td>0.027168</td>\n",
              "      <td>0.734829</td>\n",
              "      <td>0.739161</td>\n",
              "      <td>0.249996</td>\n",
              "      <td>0.268621</td>\n",
              "    </tr>\n",
              "  </tbody>\n",
              "</table>\n",
              "</div>"
            ],
            "text/plain": [
              "     CV LSI    CV RSI   DEs LSI   DEs RSI   NSI LSI   NSI RSI   INC LSI  \\\n",
              "0  3.078522  3.005334  0.030629  0.027168  0.734829  0.739161  0.249996   \n",
              "\n",
              "    INC RSI  \n",
              "0  0.268621  "
            ]
          },
          "metadata": {
            "tags": []
          }
        },
        {
          "output_type": "stream",
          "text": [
            "True\n",
            "Los índices para el paciente 6 con ELA son:\n"
          ],
          "name": "stdout"
        },
        {
          "output_type": "display_data",
          "data": {
            "text/html": [
              "<div>\n",
              "<style scoped>\n",
              "    .dataframe tbody tr th:only-of-type {\n",
              "        vertical-align: middle;\n",
              "    }\n",
              "\n",
              "    .dataframe tbody tr th {\n",
              "        vertical-align: top;\n",
              "    }\n",
              "\n",
              "    .dataframe thead th {\n",
              "        text-align: right;\n",
              "    }\n",
              "</style>\n",
              "<table border=\"1\" class=\"dataframe\">\n",
              "  <thead>\n",
              "    <tr style=\"text-align: right;\">\n",
              "      <th></th>\n",
              "      <th>CV LSI</th>\n",
              "      <th>CV RSI</th>\n",
              "      <th>DEs LSI</th>\n",
              "      <th>DEs RSI</th>\n",
              "      <th>NSI LSI</th>\n",
              "      <th>NSI RSI</th>\n",
              "      <th>INC LSI</th>\n",
              "      <th>INC RSI</th>\n",
              "    </tr>\n",
              "  </thead>\n",
              "  <tbody>\n",
              "    <tr>\n",
              "      <th>0</th>\n",
              "      <td>6.418201</td>\n",
              "      <td>6.37319</td>\n",
              "      <td>0.100486</td>\n",
              "      <td>0.102024</td>\n",
              "      <td>0.688277</td>\n",
              "      <td>0.74935</td>\n",
              "      <td>0.390677</td>\n",
              "      <td>0.312611</td>\n",
              "    </tr>\n",
              "  </tbody>\n",
              "</table>\n",
              "</div>"
            ],
            "text/plain": [
              "     CV LSI   CV RSI   DEs LSI   DEs RSI   NSI LSI  NSI RSI   INC LSI  \\\n",
              "0  6.418201  6.37319  0.100486  0.102024  0.688277  0.74935  0.390677   \n",
              "\n",
              "    INC RSI  \n",
              "0  0.312611  "
            ]
          },
          "metadata": {
            "tags": []
          }
        },
        {
          "output_type": "stream",
          "text": [
            "True\n",
            "Los índices para el paciente 11 con Parkinson son:\n"
          ],
          "name": "stdout"
        },
        {
          "output_type": "display_data",
          "data": {
            "text/html": [
              "<div>\n",
              "<style scoped>\n",
              "    .dataframe tbody tr th:only-of-type {\n",
              "        vertical-align: middle;\n",
              "    }\n",
              "\n",
              "    .dataframe tbody tr th {\n",
              "        vertical-align: top;\n",
              "    }\n",
              "\n",
              "    .dataframe thead th {\n",
              "        text-align: right;\n",
              "    }\n",
              "</style>\n",
              "<table border=\"1\" class=\"dataframe\">\n",
              "  <thead>\n",
              "    <tr style=\"text-align: right;\">\n",
              "      <th></th>\n",
              "      <th>CV LSI</th>\n",
              "      <th>CV RSI</th>\n",
              "      <th>DEs LSI</th>\n",
              "      <th>DEs RSI</th>\n",
              "      <th>NSI LSI</th>\n",
              "      <th>NSI RSI</th>\n",
              "      <th>INC LSI</th>\n",
              "      <th>INC RSI</th>\n",
              "    </tr>\n",
              "  </thead>\n",
              "  <tbody>\n",
              "    <tr>\n",
              "      <th>0</th>\n",
              "      <td>8.677115</td>\n",
              "      <td>8.425404</td>\n",
              "      <td>0.094987</td>\n",
              "      <td>0.054433</td>\n",
              "      <td>0.582213</td>\n",
              "      <td>0.876458</td>\n",
              "      <td>0.623265</td>\n",
              "      <td>0.307059</td>\n",
              "    </tr>\n",
              "  </tbody>\n",
              "</table>\n",
              "</div>"
            ],
            "text/plain": [
              "     CV LSI    CV RSI   DEs LSI   DEs RSI   NSI LSI   NSI RSI   INC LSI  \\\n",
              "0  8.677115  8.425404  0.094987  0.054433  0.582213  0.876458  0.623265   \n",
              "\n",
              "    INC RSI  \n",
              "0  0.307059  "
            ]
          },
          "metadata": {
            "tags": []
          }
        },
        {
          "output_type": "stream",
          "text": [
            "True\n",
            "Los índices para el paciente 10 con Huntington son:\n"
          ],
          "name": "stdout"
        },
        {
          "output_type": "display_data",
          "data": {
            "text/html": [
              "<div>\n",
              "<style scoped>\n",
              "    .dataframe tbody tr th:only-of-type {\n",
              "        vertical-align: middle;\n",
              "    }\n",
              "\n",
              "    .dataframe tbody tr th {\n",
              "        vertical-align: top;\n",
              "    }\n",
              "\n",
              "    .dataframe thead th {\n",
              "        text-align: right;\n",
              "    }\n",
              "</style>\n",
              "<table border=\"1\" class=\"dataframe\">\n",
              "  <thead>\n",
              "    <tr style=\"text-align: right;\">\n",
              "      <th></th>\n",
              "      <th>CV LSI</th>\n",
              "      <th>CV RSI</th>\n",
              "      <th>DEs LSI</th>\n",
              "      <th>DEs RSI</th>\n",
              "      <th>NSI LSI</th>\n",
              "      <th>NSI RSI</th>\n",
              "      <th>INC LSI</th>\n",
              "      <th>INC RSI</th>\n",
              "    </tr>\n",
              "  </thead>\n",
              "  <tbody>\n",
              "    <tr>\n",
              "      <th>0</th>\n",
              "      <td>5.780825</td>\n",
              "      <td>4.889553</td>\n",
              "      <td>0.084611</td>\n",
              "      <td>0.07168</td>\n",
              "      <td>0.423192</td>\n",
              "      <td>0.491599</td>\n",
              "      <td>0.402114</td>\n",
              "      <td>0.248321</td>\n",
              "    </tr>\n",
              "  </tbody>\n",
              "</table>\n",
              "</div>"
            ],
            "text/plain": [
              "     CV LSI    CV RSI   DEs LSI  DEs RSI   NSI LSI   NSI RSI   INC LSI  \\\n",
              "0  5.780825  4.889553  0.084611  0.07168  0.423192  0.491599  0.402114   \n",
              "\n",
              "    INC RSI  \n",
              "0  0.248321  "
            ]
          },
          "metadata": {
            "tags": []
          }
        },
        {
          "output_type": "stream",
          "text": [
            "True\n"
          ],
          "name": "stdout"
        }
      ]
    },
    {
      "cell_type": "markdown",
      "metadata": {
        "id": "KRMCzXBY3Lba"
      },
      "source": [
        "En la tabla mostrada anteriormente se observan los valores de los indices de fluctuación de magnitud y dinámica de fluctuación obtenidos para algunos sujetos elegidos de manera aleatoria, estos datos presentan relación con los valores de los indices, puesto que se encontraron valores lógicos evidenciado en la inexistencia de valores negativos, o de magnitudes muy grandes. "
      ]
    },
    {
      "cell_type": "code",
      "metadata": {
        "id": "AnC0orFosMKT",
        "colab": {
          "base_uri": "https://localhost:8080/",
          "height": 1000
        },
        "outputId": "9ee56cbb-1795-4c6e-acd8-833501e9de03"
      },
      "source": [
        "# Gráficos de dispersión para control 1\n",
        "fig, ax = plt.subplots()\n",
        "ax.scatter(time_c1, c1lf )\n",
        "ax.scatter(time_c1, c1rf)\n",
        "plt.xlabel('Tiempo')\n",
        "plt.ylabel('Señal')\n",
        "plt.title('Gráfico de dispersión C1')\n",
        "plt.show()\n",
        "\n",
        "# Gráficos de dispersión para ELA 6\n",
        "fig, ax = plt.subplots()\n",
        "ax.scatter(time_als6, als6lf )\n",
        "ax.scatter(time_als6, als6rf)\n",
        "plt.xlabel('Tiempo')\n",
        "plt.ylabel('Señal')\n",
        "plt.title('Gráfico de dispersión ELA6')\n",
        "plt.show()\n",
        "\n",
        "# Gráficos de dispersión para HUNT 10\n",
        "fig, ax = plt.subplots()\n",
        "ax.scatter(time_hunt10, h10lf )\n",
        "ax.scatter(time_hunt10, h10rf)\n",
        "plt.xlabel('Tiempo')\n",
        "plt.ylabel('Señal')\n",
        "plt.title('Gráfico de dispersión HUNT10')\n",
        "plt.show()\n",
        "\n",
        "# Gráficos de dispersión para PARK 11\n",
        "fig,ax = plt.subplots()\n",
        "ax.scatter(time_park11, p11lf )\n",
        "ax.scatter(time_park11, p11rf)\n",
        "plt.xlabel('Tiempo')\n",
        "plt.ylabel('Señal')\n",
        "plt.title('Gráfico de dispersión PARK11')\n",
        "plt.show()"
      ],
      "execution_count": null,
      "outputs": [
        {
          "output_type": "display_data",
          "data": {
            "image/png": "[encoded data removed]",
            "text/plain": [
              "<Figure size 432x288 with 1 Axes>"
            ]
          },
          "metadata": {
            "tags": [],
            "needs_background": "light"
          }
        },
        {
          "output_type": "display_data",
          "data": {
            "image/png": "[encoded data removed]",
            "text/plain": [
              "<Figure size 432x288 with 1 Axes>"
            ]
          },
          "metadata": {
            "tags": [],
            "needs_background": "light"
          }
        },
        {
          "output_type": "display_data",
          "data": {
            "image/png": "[encoded data removed]",
            "text/plain": [
              "<Figure size 432x288 with 1 Axes>"
            ]
          },
          "metadata": {
            "tags": [],
            "needs_background": "light"
          }
        },
        {
          "output_type": "display_data",
          "data": {
            "image/png": "[encoded data removed]",
            "text/plain": [
              "<Figure size 432x288 with 1 Axes>"
            ]
          },
          "metadata": {
            "tags": [],
            "needs_background": "light"
          }
        }
      ]
    },
    {
      "cell_type": "markdown",
      "metadata": {
        "id": "83zbgLh2rNHz"
      },
      "source": [
        "Al comparar los resultados obtenidos para los índices de fluctuación de magnitud y dinámica de fluctuación de las señales y los gráficos de dispersión presentados se encuentra que este los índices mantienen una relación directa con los datos, pues a medida que se observa una mayor variabilidad en la gráfica también se observa una correspondencia con los valores calculados del coeficiente de variación, desviación estandar sin tendencia, coeficiente de noestacionariedad e inconsistencia de la varianza, pues estos también aumentan, siendo control el sujeto con menor variabilidad en sus datos en comparación de los demás sujetos de estudio, lo cual era de esperarse al tratarse de un sujeto de referencia."
      ]
    },
    {
      "cell_type": "markdown",
      "metadata": {
        "id": "pDZDaKmyM2Jw"
      },
      "source": [
        "**Procesamiento y extracción de las características de las señales**\n"
      ]
    },
    {
      "cell_type": "code",
      "metadata": {
        "id": "r-sellWGLXS1"
      },
      "source": [
        "names = ['time','LSI','RSI','LSwI','RSwI','LSIp','RSIp','LStI','RStI','LStIp','RStIp','DSI','DSIp']\n",
        "import glob #Se importa la libreria 'glob'.\n",
        "control = glob.glob('/content/senales/control*ts') #Se cargan los archivos correspondientes a los pacientes control.\n",
        "als = glob.glob('/content/senales/als*ts') #Se cargan los archivos correspondientes a los pacientes con ELA.\n",
        "hunt = glob.glob('/content/senales/hunt*ts') #Se cargan los archivos correspondientes a los pacientes con enfermedad de Huntington.\n",
        "park = glob.glob('/content/senales/park*ts') #Se cargan los archivos correspondientes a los pacientes con Parkinson."
      ],
      "execution_count": null,
      "outputs": []
    },
    {
      "cell_type": "code",
      "metadata": {
        "id": "pAUFOzKw8Old",
        "colab": {
          "base_uri": "https://localhost:8080/",
          "height": 1000
        },
        "outputId": "990c8aea-b9d4-40a2-fabf-a0cf50df51da"
      },
      "source": [
        "#Se crean listas vacías para almacenar información \n",
        "c_varl=[]\n",
        "c_varr=[]\n",
        "desv_stl=[]\n",
        "desv_str=[]\n",
        "nsi_l=[]\n",
        "nsi_r=[]\n",
        "inc_l=[]\n",
        "inc_r=[]\n",
        "ARCHIVOS=[control,als,hunt,park]\n",
        "e=0\n",
        "for A in ARCHIVOS:\n",
        "  for archivo in ARCHIVOS[e]:\n",
        "    datos = pd.read_csv(archivo,sep='\\t',names=names) #Se leen los archivos \n",
        "    #Se convierten los datos de 'Series' a numpy\n",
        "    LSI = datos['LSI'].to_numpy() \n",
        "    RSI=datos['RSI'].to_numpy()\n",
        "    tiempo=datos['time'].to_numpy()\n",
        "    LSI_F=hampel(LSI,5,3)\n",
        "    RSI_F=hampel(RSI,5,3)\n",
        "  #Rutina de fluctuacion de magnitud\n",
        "    #Coeficiente de variación \n",
        "    c_var_l= coef_varl(LSI_F) #Se llama la función definida anteriormente\n",
        "    c_varl.append(c_var_l) \n",
        "    c_var_r= coef_varr(RSI_F) #Se llama la función definida anteriormente\n",
        "    c_varr.append(c_var_r)\n",
        "    #Desviación estándar sin tendencia\n",
        "    desv_st_l=DS_tl(LSI_F,tiempo) #Se llama la función definida anteriormente\n",
        "    desv_stl.append(desv_st_l)\n",
        "    desv_st_r=DS_tr(RSI_F,tiempo) #Se llama la función definida anteriormente\n",
        "    desv_str.append(desv_st_r)\n",
        "  #Rutina de dinámica de la fluctuación \n",
        "    #Coeficiente de noestacionariedad normalizado\n",
        "    nl=NSI_l(LSI_F) #Se llama la función definida anteriormente\n",
        "    nsi_l.append(nl)\n",
        "    nr=NSI_r(RSI_F) #Se llama la función definida anteriormente\n",
        "    nsi_r.append(nr)\n",
        "    #Indice de inconsistencia de varianza\n",
        "    nil=INC_l(LSI_F) #Se llama la función definida anteriormente\n",
        "    inc_l.append(nil)\n",
        "    nir=INC_r(RSI_F) #Se llama la función definida anteriormente\n",
        "    inc_r.append(nir)\n",
        "  e=e+1\n",
        "#Se crea el DataFrame que recopila la información de los indices\n",
        "Data=pd.DataFrame({'CV LSI':pd.Series(c_varl),'CV RSI':pd.Series(c_varr),'DEs LSI':pd.Series(desv_stl),'DEs RSI':pd.Series(desv_str),'NSI LSI':pd.Series(nsi_l),'NSI RSI':pd.Series(nsi_r),'INC LSI':pd.Series(inc_l),'INC RSI':pd.Series(inc_r)})\n",
        "#Data=displaydf(Data)\n",
        "CONTROL=Data[0:16]\n",
        "print(\"PACIENTES CONTROL\")\n",
        "print(displaydf(CONTROL))\n",
        "ELA=Data[16:29]\n",
        "print(\"PACIENTES ELA\")\n",
        "print(displaydf(ELA))\n",
        "HUNT=Data[29:49]\n",
        "print(\"PACIENTES HUNT\")\n",
        "print(displaydf(HUNT))\n",
        "PARK=Data[49:64]\n",
        "print(\"PACIENTES PARKINSON\")\n",
        "print(displaydf(PARK))"
      ],
      "execution_count": null,
      "outputs": [
        {
          "output_type": "stream",
          "text": [
            "PACIENTES CONTROL\n"
          ],
          "name": "stdout"
        },
        {
          "output_type": "display_data",
          "data": {
            "text/html": [
              "<div>\n",
              "<style scoped>\n",
              "    .dataframe tbody tr th:only-of-type {\n",
              "        vertical-align: middle;\n",
              "    }\n",
              "\n",
              "    .dataframe tbody tr th {\n",
              "        vertical-align: top;\n",
              "    }\n",
              "\n",
              "    .dataframe thead th {\n",
              "        text-align: right;\n",
              "    }\n",
              "</style>\n",
              "<table border=\"1\" class=\"dataframe\">\n",
              "  <thead>\n",
              "    <tr style=\"text-align: right;\">\n",
              "      <th></th>\n",
              "      <th>CV LSI</th>\n",
              "      <th>CV RSI</th>\n",
              "      <th>DEs LSI</th>\n",
              "      <th>DEs RSI</th>\n",
              "      <th>NSI LSI</th>\n",
              "      <th>NSI RSI</th>\n",
              "      <th>INC LSI</th>\n",
              "      <th>INC RSI</th>\n",
              "    </tr>\n",
              "  </thead>\n",
              "  <tbody>\n",
              "    <tr>\n",
              "      <th>0</th>\n",
              "      <td>2.598469</td>\n",
              "      <td>2.474653</td>\n",
              "      <td>0.025961</td>\n",
              "      <td>0.023558</td>\n",
              "      <td>0.760192</td>\n",
              "      <td>0.800159</td>\n",
              "      <td>0.357727</td>\n",
              "      <td>0.242144</td>\n",
              "    </tr>\n",
              "    <tr>\n",
              "      <th>1</th>\n",
              "      <td>3.571907</td>\n",
              "      <td>3.625486</td>\n",
              "      <td>0.041753</td>\n",
              "      <td>0.038091</td>\n",
              "      <td>0.761891</td>\n",
              "      <td>0.764414</td>\n",
              "      <td>0.440403</td>\n",
              "      <td>0.357463</td>\n",
              "    </tr>\n",
              "    <tr>\n",
              "      <th>2</th>\n",
              "      <td>2.511290</td>\n",
              "      <td>3.375128</td>\n",
              "      <td>0.027195</td>\n",
              "      <td>0.039242</td>\n",
              "      <td>0.660208</td>\n",
              "      <td>0.717646</td>\n",
              "      <td>0.393782</td>\n",
              "      <td>0.441924</td>\n",
              "    </tr>\n",
              "    <tr>\n",
              "      <th>3</th>\n",
              "      <td>2.853284</td>\n",
              "      <td>2.826821</td>\n",
              "      <td>0.026791</td>\n",
              "      <td>0.028246</td>\n",
              "      <td>0.771674</td>\n",
              "      <td>0.746828</td>\n",
              "      <td>0.253734</td>\n",
              "      <td>0.281847</td>\n",
              "    </tr>\n",
              "    <tr>\n",
              "      <th>4</th>\n",
              "      <td>2.697244</td>\n",
              "      <td>3.135081</td>\n",
              "      <td>0.032747</td>\n",
              "      <td>0.043973</td>\n",
              "      <td>0.675625</td>\n",
              "      <td>0.531975</td>\n",
              "      <td>0.378214</td>\n",
              "      <td>0.631577</td>\n",
              "    </tr>\n",
              "    <tr>\n",
              "      <th>5</th>\n",
              "      <td>3.025561</td>\n",
              "      <td>3.104065</td>\n",
              "      <td>0.036851</td>\n",
              "      <td>0.032717</td>\n",
              "      <td>0.755372</td>\n",
              "      <td>0.774204</td>\n",
              "      <td>0.354823</td>\n",
              "      <td>0.359954</td>\n",
              "    </tr>\n",
              "    <tr>\n",
              "      <th>6</th>\n",
              "      <td>2.816533</td>\n",
              "      <td>2.834757</td>\n",
              "      <td>0.025200</td>\n",
              "      <td>0.029272</td>\n",
              "      <td>0.656526</td>\n",
              "      <td>0.584084</td>\n",
              "      <td>0.338145</td>\n",
              "      <td>0.310360</td>\n",
              "    </tr>\n",
              "    <tr>\n",
              "      <th>7</th>\n",
              "      <td>2.998492</td>\n",
              "      <td>3.084773</td>\n",
              "      <td>0.024860</td>\n",
              "      <td>0.029203</td>\n",
              "      <td>0.770174</td>\n",
              "      <td>0.705778</td>\n",
              "      <td>0.339905</td>\n",
              "      <td>0.363333</td>\n",
              "    </tr>\n",
              "    <tr>\n",
              "      <th>8</th>\n",
              "      <td>3.239424</td>\n",
              "      <td>3.149967</td>\n",
              "      <td>0.035638</td>\n",
              "      <td>0.035531</td>\n",
              "      <td>0.632052</td>\n",
              "      <td>0.533665</td>\n",
              "      <td>0.335352</td>\n",
              "      <td>0.297883</td>\n",
              "    </tr>\n",
              "    <tr>\n",
              "      <th>9</th>\n",
              "      <td>3.914170</td>\n",
              "      <td>4.131660</td>\n",
              "      <td>0.041970</td>\n",
              "      <td>0.051697</td>\n",
              "      <td>0.593880</td>\n",
              "      <td>0.502537</td>\n",
              "      <td>0.471708</td>\n",
              "      <td>0.443848</td>\n",
              "    </tr>\n",
              "    <tr>\n",
              "      <th>10</th>\n",
              "      <td>3.458170</td>\n",
              "      <td>3.568625</td>\n",
              "      <td>0.039415</td>\n",
              "      <td>0.041121</td>\n",
              "      <td>0.677488</td>\n",
              "      <td>0.610130</td>\n",
              "      <td>0.395016</td>\n",
              "      <td>0.378296</td>\n",
              "    </tr>\n",
              "    <tr>\n",
              "      <th>11</th>\n",
              "      <td>1.236920</td>\n",
              "      <td>1.307326</td>\n",
              "      <td>0.016335</td>\n",
              "      <td>0.015402</td>\n",
              "      <td>0.670005</td>\n",
              "      <td>0.725190</td>\n",
              "      <td>0.217382</td>\n",
              "      <td>0.285406</td>\n",
              "    </tr>\n",
              "    <tr>\n",
              "      <th>12</th>\n",
              "      <td>3.078522</td>\n",
              "      <td>3.005334</td>\n",
              "      <td>0.030629</td>\n",
              "      <td>0.027168</td>\n",
              "      <td>0.734829</td>\n",
              "      <td>0.739161</td>\n",
              "      <td>0.249996</td>\n",
              "      <td>0.268621</td>\n",
              "    </tr>\n",
              "    <tr>\n",
              "      <th>13</th>\n",
              "      <td>3.326612</td>\n",
              "      <td>4.699808</td>\n",
              "      <td>0.032404</td>\n",
              "      <td>0.045682</td>\n",
              "      <td>0.728807</td>\n",
              "      <td>0.705869</td>\n",
              "      <td>0.298439</td>\n",
              "      <td>0.405163</td>\n",
              "    </tr>\n",
              "    <tr>\n",
              "      <th>14</th>\n",
              "      <td>2.184700</td>\n",
              "      <td>2.132087</td>\n",
              "      <td>0.022850</td>\n",
              "      <td>0.021861</td>\n",
              "      <td>0.699954</td>\n",
              "      <td>0.746146</td>\n",
              "      <td>0.338478</td>\n",
              "      <td>0.339886</td>\n",
              "    </tr>\n",
              "    <tr>\n",
              "      <th>15</th>\n",
              "      <td>2.385898</td>\n",
              "      <td>2.447536</td>\n",
              "      <td>0.024438</td>\n",
              "      <td>0.028014</td>\n",
              "      <td>0.671954</td>\n",
              "      <td>0.694067</td>\n",
              "      <td>0.343336</td>\n",
              "      <td>0.285336</td>\n",
              "    </tr>\n",
              "  </tbody>\n",
              "</table>\n",
              "</div>"
            ],
            "text/plain": [
              "      CV LSI    CV RSI   DEs LSI   DEs RSI   NSI LSI   NSI RSI   INC LSI  \\\n",
              "0   2.598469  2.474653  0.025961  0.023558  0.760192  0.800159  0.357727   \n",
              "1   3.571907  3.625486  0.041753  0.038091  0.761891  0.764414  0.440403   \n",
              "2   2.511290  3.375128  0.027195  0.039242  0.660208  0.717646  0.393782   \n",
              "3   2.853284  2.826821  0.026791  0.028246  0.771674  0.746828  0.253734   \n",
              "4   2.697244  3.135081  0.032747  0.043973  0.675625  0.531975  0.378214   \n",
              "5   3.025561  3.104065  0.036851  0.032717  0.755372  0.774204  0.354823   \n",
              "6   2.816533  2.834757  0.025200  0.029272  0.656526  0.584084  0.338145   \n",
              "7   2.998492  3.084773  0.024860  0.029203  0.770174  0.705778  0.339905   \n",
              "8   3.239424  3.149967  0.035638  0.035531  0.632052  0.533665  0.335352   \n",
              "9   3.914170  4.131660  0.041970  0.051697  0.593880  0.502537  0.471708   \n",
              "10  3.458170  3.568625  0.039415  0.041121  0.677488  0.610130  0.395016   \n",
              "11  1.236920  1.307326  0.016335  0.015402  0.670005  0.725190  0.217382   \n",
              "12  3.078522  3.005334  0.030629  0.027168  0.734829  0.739161  0.249996   \n",
              "13  3.326612  4.699808  0.032404  0.045682  0.728807  0.705869  0.298439   \n",
              "14  2.184700  2.132087  0.022850  0.021861  0.699954  0.746146  0.338478   \n",
              "15  2.385898  2.447536  0.024438  0.028014  0.671954  0.694067  0.343336   \n",
              "\n",
              "     INC RSI  \n",
              "0   0.242144  \n",
              "1   0.357463  \n",
              "2   0.441924  \n",
              "3   0.281847  \n",
              "4   0.631577  \n",
              "5   0.359954  \n",
              "6   0.310360  \n",
              "7   0.363333  \n",
              "8   0.297883  \n",
              "9   0.443848  \n",
              "10  0.378296  \n",
              "11  0.285406  \n",
              "12  0.268621  \n",
              "13  0.405163  \n",
              "14  0.339886  \n",
              "15  0.285336  "
            ]
          },
          "metadata": {
            "tags": []
          }
        },
        {
          "output_type": "stream",
          "text": [
            "True\n",
            "PACIENTES ELA\n"
          ],
          "name": "stdout"
        },
        {
          "output_type": "display_data",
          "data": {
            "text/html": [
              "<div>\n",
              "<style scoped>\n",
              "    .dataframe tbody tr th:only-of-type {\n",
              "        vertical-align: middle;\n",
              "    }\n",
              "\n",
              "    .dataframe tbody tr th {\n",
              "        vertical-align: top;\n",
              "    }\n",
              "\n",
              "    .dataframe thead th {\n",
              "        text-align: right;\n",
              "    }\n",
              "</style>\n",
              "<table border=\"1\" class=\"dataframe\">\n",
              "  <thead>\n",
              "    <tr style=\"text-align: right;\">\n",
              "      <th></th>\n",
              "      <th>CV LSI</th>\n",
              "      <th>CV RSI</th>\n",
              "      <th>DEs LSI</th>\n",
              "      <th>DEs RSI</th>\n",
              "      <th>NSI LSI</th>\n",
              "      <th>NSI RSI</th>\n",
              "      <th>INC LSI</th>\n",
              "      <th>INC RSI</th>\n",
              "    </tr>\n",
              "  </thead>\n",
              "  <tbody>\n",
              "    <tr>\n",
              "      <th>16</th>\n",
              "      <td>6.036516</td>\n",
              "      <td>5.899160</td>\n",
              "      <td>0.086468</td>\n",
              "      <td>0.087196</td>\n",
              "      <td>0.792260</td>\n",
              "      <td>0.756585</td>\n",
              "      <td>0.302064</td>\n",
              "      <td>0.280779</td>\n",
              "    </tr>\n",
              "    <tr>\n",
              "      <th>17</th>\n",
              "      <td>6.583353</td>\n",
              "      <td>5.819014</td>\n",
              "      <td>0.088216</td>\n",
              "      <td>0.069611</td>\n",
              "      <td>0.596950</td>\n",
              "      <td>0.588476</td>\n",
              "      <td>0.286888</td>\n",
              "      <td>0.403610</td>\n",
              "    </tr>\n",
              "    <tr>\n",
              "      <th>18</th>\n",
              "      <td>4.024492</td>\n",
              "      <td>4.094174</td>\n",
              "      <td>0.041060</td>\n",
              "      <td>0.046091</td>\n",
              "      <td>0.806683</td>\n",
              "      <td>0.723240</td>\n",
              "      <td>0.359908</td>\n",
              "      <td>0.525135</td>\n",
              "    </tr>\n",
              "    <tr>\n",
              "      <th>19</th>\n",
              "      <td>2.785780</td>\n",
              "      <td>2.695571</td>\n",
              "      <td>0.033470</td>\n",
              "      <td>0.031947</td>\n",
              "      <td>0.767285</td>\n",
              "      <td>0.765631</td>\n",
              "      <td>0.305203</td>\n",
              "      <td>0.311261</td>\n",
              "    </tr>\n",
              "    <tr>\n",
              "      <th>20</th>\n",
              "      <td>6.394923</td>\n",
              "      <td>6.775903</td>\n",
              "      <td>0.065466</td>\n",
              "      <td>0.065892</td>\n",
              "      <td>0.762637</td>\n",
              "      <td>0.809167</td>\n",
              "      <td>0.250476</td>\n",
              "      <td>0.274413</td>\n",
              "    </tr>\n",
              "    <tr>\n",
              "      <th>21</th>\n",
              "      <td>6.026137</td>\n",
              "      <td>5.885108</td>\n",
              "      <td>0.049205</td>\n",
              "      <td>0.044088</td>\n",
              "      <td>0.907326</td>\n",
              "      <td>0.894996</td>\n",
              "      <td>0.137691</td>\n",
              "      <td>0.231563</td>\n",
              "    </tr>\n",
              "    <tr>\n",
              "      <th>22</th>\n",
              "      <td>10.944433</td>\n",
              "      <td>9.344063</td>\n",
              "      <td>0.182284</td>\n",
              "      <td>0.178108</td>\n",
              "      <td>0.409978</td>\n",
              "      <td>0.541021</td>\n",
              "      <td>0.712754</td>\n",
              "      <td>0.515544</td>\n",
              "    </tr>\n",
              "    <tr>\n",
              "      <th>23</th>\n",
              "      <td>2.459976</td>\n",
              "      <td>2.524153</td>\n",
              "      <td>0.030693</td>\n",
              "      <td>0.030069</td>\n",
              "      <td>0.714687</td>\n",
              "      <td>0.705613</td>\n",
              "      <td>0.291932</td>\n",
              "      <td>0.277431</td>\n",
              "    </tr>\n",
              "    <tr>\n",
              "      <th>24</th>\n",
              "      <td>6.418201</td>\n",
              "      <td>6.373190</td>\n",
              "      <td>0.100486</td>\n",
              "      <td>0.102024</td>\n",
              "      <td>0.688277</td>\n",
              "      <td>0.749350</td>\n",
              "      <td>0.390677</td>\n",
              "      <td>0.312611</td>\n",
              "    </tr>\n",
              "    <tr>\n",
              "      <th>25</th>\n",
              "      <td>1.805344</td>\n",
              "      <td>1.660907</td>\n",
              "      <td>0.029428</td>\n",
              "      <td>0.024976</td>\n",
              "      <td>0.392264</td>\n",
              "      <td>0.415019</td>\n",
              "      <td>0.293636</td>\n",
              "      <td>0.405977</td>\n",
              "    </tr>\n",
              "    <tr>\n",
              "      <th>26</th>\n",
              "      <td>6.939359</td>\n",
              "      <td>6.586887</td>\n",
              "      <td>0.113563</td>\n",
              "      <td>0.094803</td>\n",
              "      <td>0.824565</td>\n",
              "      <td>0.828035</td>\n",
              "      <td>0.226577</td>\n",
              "      <td>0.209088</td>\n",
              "    </tr>\n",
              "    <tr>\n",
              "      <th>27</th>\n",
              "      <td>5.694399</td>\n",
              "      <td>4.627983</td>\n",
              "      <td>0.070131</td>\n",
              "      <td>0.044761</td>\n",
              "      <td>0.797481</td>\n",
              "      <td>0.791242</td>\n",
              "      <td>0.340928</td>\n",
              "      <td>0.311690</td>\n",
              "    </tr>\n",
              "    <tr>\n",
              "      <th>28</th>\n",
              "      <td>10.183811</td>\n",
              "      <td>13.476742</td>\n",
              "      <td>0.116303</td>\n",
              "      <td>0.151414</td>\n",
              "      <td>0.761597</td>\n",
              "      <td>0.691710</td>\n",
              "      <td>0.366933</td>\n",
              "      <td>0.379559</td>\n",
              "    </tr>\n",
              "  </tbody>\n",
              "</table>\n",
              "</div>"
            ],
            "text/plain": [
              "       CV LSI     CV RSI   DEs LSI   DEs RSI   NSI LSI   NSI RSI   INC LSI  \\\n",
              "16   6.036516   5.899160  0.086468  0.087196  0.792260  0.756585  0.302064   \n",
              "17   6.583353   5.819014  0.088216  0.069611  0.596950  0.588476  0.286888   \n",
              "18   4.024492   4.094174  0.041060  0.046091  0.806683  0.723240  0.359908   \n",
              "19   2.785780   2.695571  0.033470  0.031947  0.767285  0.765631  0.305203   \n",
              "20   6.394923   6.775903  0.065466  0.065892  0.762637  0.809167  0.250476   \n",
              "21   6.026137   5.885108  0.049205  0.044088  0.907326  0.894996  0.137691   \n",
              "22  10.944433   9.344063  0.182284  0.178108  0.409978  0.541021  0.712754   \n",
              "23   2.459976   2.524153  0.030693  0.030069  0.714687  0.705613  0.291932   \n",
              "24   6.418201   6.373190  0.100486  0.102024  0.688277  0.749350  0.390677   \n",
              "25   1.805344   1.660907  0.029428  0.024976  0.392264  0.415019  0.293636   \n",
              "26   6.939359   6.586887  0.113563  0.094803  0.824565  0.828035  0.226577   \n",
              "27   5.694399   4.627983  0.070131  0.044761  0.797481  0.791242  0.340928   \n",
              "28  10.183811  13.476742  0.116303  0.151414  0.761597  0.691710  0.366933   \n",
              "\n",
              "     INC RSI  \n",
              "16  0.280779  \n",
              "17  0.403610  \n",
              "18  0.525135  \n",
              "19  0.311261  \n",
              "20  0.274413  \n",
              "21  0.231563  \n",
              "22  0.515544  \n",
              "23  0.277431  \n",
              "24  0.312611  \n",
              "25  0.405977  \n",
              "26  0.209088  \n",
              "27  0.311690  \n",
              "28  0.379559  "
            ]
          },
          "metadata": {
            "tags": []
          }
        },
        {
          "output_type": "stream",
          "text": [
            "True\n",
            "PACIENTES HUNT\n"
          ],
          "name": "stdout"
        },
        {
          "output_type": "display_data",
          "data": {
            "text/html": [
              "<div>\n",
              "<style scoped>\n",
              "    .dataframe tbody tr th:only-of-type {\n",
              "        vertical-align: middle;\n",
              "    }\n",
              "\n",
              "    .dataframe tbody tr th {\n",
              "        vertical-align: top;\n",
              "    }\n",
              "\n",
              "    .dataframe thead th {\n",
              "        text-align: right;\n",
              "    }\n",
              "</style>\n",
              "<table border=\"1\" class=\"dataframe\">\n",
              "  <thead>\n",
              "    <tr style=\"text-align: right;\">\n",
              "      <th></th>\n",
              "      <th>CV LSI</th>\n",
              "      <th>CV RSI</th>\n",
              "      <th>DEs LSI</th>\n",
              "      <th>DEs RSI</th>\n",
              "      <th>NSI LSI</th>\n",
              "      <th>NSI RSI</th>\n",
              "      <th>INC LSI</th>\n",
              "      <th>INC RSI</th>\n",
              "    </tr>\n",
              "  </thead>\n",
              "  <tbody>\n",
              "    <tr>\n",
              "      <th>29</th>\n",
              "      <td>8.093086</td>\n",
              "      <td>7.557664</td>\n",
              "      <td>0.110381</td>\n",
              "      <td>0.113728</td>\n",
              "      <td>0.582551</td>\n",
              "      <td>0.446623</td>\n",
              "      <td>0.319885</td>\n",
              "      <td>0.418788</td>\n",
              "    </tr>\n",
              "    <tr>\n",
              "      <th>30</th>\n",
              "      <td>4.066793</td>\n",
              "      <td>3.797438</td>\n",
              "      <td>0.035444</td>\n",
              "      <td>0.036451</td>\n",
              "      <td>0.656388</td>\n",
              "      <td>0.733256</td>\n",
              "      <td>0.360655</td>\n",
              "      <td>0.296909</td>\n",
              "    </tr>\n",
              "    <tr>\n",
              "      <th>31</th>\n",
              "      <td>5.789153</td>\n",
              "      <td>5.376414</td>\n",
              "      <td>0.076023</td>\n",
              "      <td>0.073511</td>\n",
              "      <td>0.778838</td>\n",
              "      <td>0.688520</td>\n",
              "      <td>0.355619</td>\n",
              "      <td>0.349704</td>\n",
              "    </tr>\n",
              "    <tr>\n",
              "      <th>32</th>\n",
              "      <td>5.780825</td>\n",
              "      <td>4.889553</td>\n",
              "      <td>0.084611</td>\n",
              "      <td>0.071680</td>\n",
              "      <td>0.423192</td>\n",
              "      <td>0.491599</td>\n",
              "      <td>0.402114</td>\n",
              "      <td>0.248321</td>\n",
              "    </tr>\n",
              "    <tr>\n",
              "      <th>33</th>\n",
              "      <td>18.575737</td>\n",
              "      <td>17.836839</td>\n",
              "      <td>0.266605</td>\n",
              "      <td>0.261751</td>\n",
              "      <td>0.458887</td>\n",
              "      <td>0.360946</td>\n",
              "      <td>0.408357</td>\n",
              "      <td>0.458620</td>\n",
              "    </tr>\n",
              "    <tr>\n",
              "      <th>34</th>\n",
              "      <td>4.795704</td>\n",
              "      <td>6.227784</td>\n",
              "      <td>0.046274</td>\n",
              "      <td>0.065563</td>\n",
              "      <td>0.658301</td>\n",
              "      <td>0.637245</td>\n",
              "      <td>0.460601</td>\n",
              "      <td>0.541344</td>\n",
              "    </tr>\n",
              "    <tr>\n",
              "      <th>35</th>\n",
              "      <td>9.273374</td>\n",
              "      <td>8.993891</td>\n",
              "      <td>0.130408</td>\n",
              "      <td>0.131246</td>\n",
              "      <td>0.565310</td>\n",
              "      <td>0.659746</td>\n",
              "      <td>0.427168</td>\n",
              "      <td>0.284443</td>\n",
              "    </tr>\n",
              "    <tr>\n",
              "      <th>36</th>\n",
              "      <td>3.685827</td>\n",
              "      <td>3.326922</td>\n",
              "      <td>0.031883</td>\n",
              "      <td>0.031004</td>\n",
              "      <td>0.776566</td>\n",
              "      <td>0.815999</td>\n",
              "      <td>0.324288</td>\n",
              "      <td>0.260500</td>\n",
              "    </tr>\n",
              "    <tr>\n",
              "      <th>37</th>\n",
              "      <td>6.820665</td>\n",
              "      <td>6.718683</td>\n",
              "      <td>0.100970</td>\n",
              "      <td>0.101028</td>\n",
              "      <td>0.595251</td>\n",
              "      <td>0.646190</td>\n",
              "      <td>0.356329</td>\n",
              "      <td>0.345991</td>\n",
              "    </tr>\n",
              "    <tr>\n",
              "      <th>38</th>\n",
              "      <td>4.169317</td>\n",
              "      <td>4.250615</td>\n",
              "      <td>0.062202</td>\n",
              "      <td>0.064445</td>\n",
              "      <td>0.356448</td>\n",
              "      <td>0.478643</td>\n",
              "      <td>0.510456</td>\n",
              "      <td>0.448418</td>\n",
              "    </tr>\n",
              "    <tr>\n",
              "      <th>39</th>\n",
              "      <td>4.604373</td>\n",
              "      <td>4.684529</td>\n",
              "      <td>0.049057</td>\n",
              "      <td>0.049367</td>\n",
              "      <td>0.769785</td>\n",
              "      <td>0.757591</td>\n",
              "      <td>0.351548</td>\n",
              "      <td>0.347757</td>\n",
              "    </tr>\n",
              "    <tr>\n",
              "      <th>40</th>\n",
              "      <td>21.213613</td>\n",
              "      <td>21.419161</td>\n",
              "      <td>0.441763</td>\n",
              "      <td>0.471303</td>\n",
              "      <td>0.535749</td>\n",
              "      <td>0.541790</td>\n",
              "      <td>0.455004</td>\n",
              "      <td>0.411156</td>\n",
              "    </tr>\n",
              "    <tr>\n",
              "      <th>41</th>\n",
              "      <td>19.264574</td>\n",
              "      <td>20.151838</td>\n",
              "      <td>0.303664</td>\n",
              "      <td>0.297131</td>\n",
              "      <td>0.276583</td>\n",
              "      <td>0.456569</td>\n",
              "      <td>0.436285</td>\n",
              "      <td>0.367602</td>\n",
              "    </tr>\n",
              "    <tr>\n",
              "      <th>42</th>\n",
              "      <td>4.601946</td>\n",
              "      <td>4.687362</td>\n",
              "      <td>0.053134</td>\n",
              "      <td>0.054539</td>\n",
              "      <td>0.484800</td>\n",
              "      <td>0.507541</td>\n",
              "      <td>0.304980</td>\n",
              "      <td>0.330194</td>\n",
              "    </tr>\n",
              "    <tr>\n",
              "      <th>43</th>\n",
              "      <td>7.625732</td>\n",
              "      <td>7.475533</td>\n",
              "      <td>0.078432</td>\n",
              "      <td>0.073107</td>\n",
              "      <td>0.790450</td>\n",
              "      <td>0.826668</td>\n",
              "      <td>0.294016</td>\n",
              "      <td>0.251761</td>\n",
              "    </tr>\n",
              "    <tr>\n",
              "      <th>44</th>\n",
              "      <td>7.723080</td>\n",
              "      <td>7.374223</td>\n",
              "      <td>0.110562</td>\n",
              "      <td>0.104983</td>\n",
              "      <td>0.617861</td>\n",
              "      <td>0.544258</td>\n",
              "      <td>0.351091</td>\n",
              "      <td>0.278180</td>\n",
              "    </tr>\n",
              "    <tr>\n",
              "      <th>45</th>\n",
              "      <td>18.380856</td>\n",
              "      <td>15.621624</td>\n",
              "      <td>0.354328</td>\n",
              "      <td>0.287904</td>\n",
              "      <td>0.387826</td>\n",
              "      <td>0.367965</td>\n",
              "      <td>0.358696</td>\n",
              "      <td>0.494273</td>\n",
              "    </tr>\n",
              "    <tr>\n",
              "      <th>46</th>\n",
              "      <td>3.612263</td>\n",
              "      <td>3.413870</td>\n",
              "      <td>0.042942</td>\n",
              "      <td>0.042971</td>\n",
              "      <td>0.517034</td>\n",
              "      <td>0.578851</td>\n",
              "      <td>0.345529</td>\n",
              "      <td>0.366022</td>\n",
              "    </tr>\n",
              "    <tr>\n",
              "      <th>47</th>\n",
              "      <td>7.534153</td>\n",
              "      <td>6.718152</td>\n",
              "      <td>0.114476</td>\n",
              "      <td>0.090623</td>\n",
              "      <td>0.361589</td>\n",
              "      <td>0.396355</td>\n",
              "      <td>0.404522</td>\n",
              "      <td>0.354837</td>\n",
              "    </tr>\n",
              "    <tr>\n",
              "      <th>48</th>\n",
              "      <td>3.848175</td>\n",
              "      <td>30.124800</td>\n",
              "      <td>0.040777</td>\n",
              "      <td>3.171512</td>\n",
              "      <td>0.519534</td>\n",
              "      <td>0.983325</td>\n",
              "      <td>0.592282</td>\n",
              "      <td>0.177251</td>\n",
              "    </tr>\n",
              "  </tbody>\n",
              "</table>\n",
              "</div>"
            ],
            "text/plain": [
              "       CV LSI     CV RSI   DEs LSI   DEs RSI   NSI LSI   NSI RSI   INC LSI  \\\n",
              "29   8.093086   7.557664  0.110381  0.113728  0.582551  0.446623  0.319885   \n",
              "30   4.066793   3.797438  0.035444  0.036451  0.656388  0.733256  0.360655   \n",
              "31   5.789153   5.376414  0.076023  0.073511  0.778838  0.688520  0.355619   \n",
              "32   5.780825   4.889553  0.084611  0.071680  0.423192  0.491599  0.402114   \n",
              "33  18.575737  17.836839  0.266605  0.261751  0.458887  0.360946  0.408357   \n",
              "34   4.795704   6.227784  0.046274  0.065563  0.658301  0.637245  0.460601   \n",
              "35   9.273374   8.993891  0.130408  0.131246  0.565310  0.659746  0.427168   \n",
              "36   3.685827   3.326922  0.031883  0.031004  0.776566  0.815999  0.324288   \n",
              "37   6.820665   6.718683  0.100970  0.101028  0.595251  0.646190  0.356329   \n",
              "38   4.169317   4.250615  0.062202  0.064445  0.356448  0.478643  0.510456   \n",
              "39   4.604373   4.684529  0.049057  0.049367  0.769785  0.757591  0.351548   \n",
              "40  21.213613  21.419161  0.441763  0.471303  0.535749  0.541790  0.455004   \n",
              "41  19.264574  20.151838  0.303664  0.297131  0.276583  0.456569  0.436285   \n",
              "42   4.601946   4.687362  0.053134  0.054539  0.484800  0.507541  0.304980   \n",
              "43   7.625732   7.475533  0.078432  0.073107  0.790450  0.826668  0.294016   \n",
              "44   7.723080   7.374223  0.110562  0.104983  0.617861  0.544258  0.351091   \n",
              "45  18.380856  15.621624  0.354328  0.287904  0.387826  0.367965  0.358696   \n",
              "46   3.612263   3.413870  0.042942  0.042971  0.517034  0.578851  0.345529   \n",
              "47   7.534153   6.718152  0.114476  0.090623  0.361589  0.396355  0.404522   \n",
              "48   3.848175  30.124800  0.040777  3.171512  0.519534  0.983325  0.592282   \n",
              "\n",
              "     INC RSI  \n",
              "29  0.418788  \n",
              "30  0.296909  \n",
              "31  0.349704  \n",
              "32  0.248321  \n",
              "33  0.458620  \n",
              "34  0.541344  \n",
              "35  0.284443  \n",
              "36  0.260500  \n",
              "37  0.345991  \n",
              "38  0.448418  \n",
              "39  0.347757  \n",
              "40  0.411156  \n",
              "41  0.367602  \n",
              "42  0.330194  \n",
              "43  0.251761  \n",
              "44  0.278180  \n",
              "45  0.494273  \n",
              "46  0.366022  \n",
              "47  0.354837  \n",
              "48  0.177251  "
            ]
          },
          "metadata": {
            "tags": []
          }
        },
        {
          "output_type": "stream",
          "text": [
            "True\n",
            "PACIENTES PARKINSON\n"
          ],
          "name": "stdout"
        },
        {
          "output_type": "display_data",
          "data": {
            "text/html": [
              "<div>\n",
              "<style scoped>\n",
              "    .dataframe tbody tr th:only-of-type {\n",
              "        vertical-align: middle;\n",
              "    }\n",
              "\n",
              "    .dataframe tbody tr th {\n",
              "        vertical-align: top;\n",
              "    }\n",
              "\n",
              "    .dataframe thead th {\n",
              "        text-align: right;\n",
              "    }\n",
              "</style>\n",
              "<table border=\"1\" class=\"dataframe\">\n",
              "  <thead>\n",
              "    <tr style=\"text-align: right;\">\n",
              "      <th></th>\n",
              "      <th>CV LSI</th>\n",
              "      <th>CV RSI</th>\n",
              "      <th>DEs LSI</th>\n",
              "      <th>DEs RSI</th>\n",
              "      <th>NSI LSI</th>\n",
              "      <th>NSI RSI</th>\n",
              "      <th>INC LSI</th>\n",
              "      <th>INC RSI</th>\n",
              "    </tr>\n",
              "  </thead>\n",
              "  <tbody>\n",
              "    <tr>\n",
              "      <th>49</th>\n",
              "      <td>3.216347</td>\n",
              "      <td>3.263537</td>\n",
              "      <td>0.040019</td>\n",
              "      <td>0.037523</td>\n",
              "      <td>0.808185</td>\n",
              "      <td>0.834554</td>\n",
              "      <td>0.246733</td>\n",
              "      <td>0.186075</td>\n",
              "    </tr>\n",
              "    <tr>\n",
              "      <th>50</th>\n",
              "      <td>4.310220</td>\n",
              "      <td>3.772645</td>\n",
              "      <td>0.042463</td>\n",
              "      <td>0.039765</td>\n",
              "      <td>0.685093</td>\n",
              "      <td>0.665026</td>\n",
              "      <td>0.343559</td>\n",
              "      <td>0.301574</td>\n",
              "    </tr>\n",
              "    <tr>\n",
              "      <th>51</th>\n",
              "      <td>12.756536</td>\n",
              "      <td>17.220916</td>\n",
              "      <td>0.059773</td>\n",
              "      <td>0.143144</td>\n",
              "      <td>0.939919</td>\n",
              "      <td>0.802437</td>\n",
              "      <td>0.146167</td>\n",
              "      <td>0.499858</td>\n",
              "    </tr>\n",
              "    <tr>\n",
              "      <th>52</th>\n",
              "      <td>9.150581</td>\n",
              "      <td>9.490753</td>\n",
              "      <td>0.160589</td>\n",
              "      <td>0.154956</td>\n",
              "      <td>0.572901</td>\n",
              "      <td>0.541567</td>\n",
              "      <td>0.527130</td>\n",
              "      <td>0.538954</td>\n",
              "    </tr>\n",
              "    <tr>\n",
              "      <th>53</th>\n",
              "      <td>3.857103</td>\n",
              "      <td>3.757114</td>\n",
              "      <td>0.055417</td>\n",
              "      <td>0.054308</td>\n",
              "      <td>0.495027</td>\n",
              "      <td>0.474189</td>\n",
              "      <td>0.537416</td>\n",
              "      <td>0.338862</td>\n",
              "    </tr>\n",
              "    <tr>\n",
              "      <th>54</th>\n",
              "      <td>8.677115</td>\n",
              "      <td>8.425404</td>\n",
              "      <td>0.094987</td>\n",
              "      <td>0.054433</td>\n",
              "      <td>0.582213</td>\n",
              "      <td>0.876458</td>\n",
              "      <td>0.623265</td>\n",
              "      <td>0.307059</td>\n",
              "    </tr>\n",
              "    <tr>\n",
              "      <th>55</th>\n",
              "      <td>3.587002</td>\n",
              "      <td>3.762057</td>\n",
              "      <td>0.047432</td>\n",
              "      <td>0.049504</td>\n",
              "      <td>0.488475</td>\n",
              "      <td>0.606083</td>\n",
              "      <td>0.332423</td>\n",
              "      <td>0.312830</td>\n",
              "    </tr>\n",
              "    <tr>\n",
              "      <th>56</th>\n",
              "      <td>5.516874</td>\n",
              "      <td>5.055218</td>\n",
              "      <td>0.035466</td>\n",
              "      <td>0.029024</td>\n",
              "      <td>0.806664</td>\n",
              "      <td>0.796708</td>\n",
              "      <td>0.372991</td>\n",
              "      <td>0.378312</td>\n",
              "    </tr>\n",
              "    <tr>\n",
              "      <th>57</th>\n",
              "      <td>5.277804</td>\n",
              "      <td>5.446001</td>\n",
              "      <td>0.071921</td>\n",
              "      <td>0.073070</td>\n",
              "      <td>0.753812</td>\n",
              "      <td>0.643230</td>\n",
              "      <td>0.359763</td>\n",
              "      <td>0.487474</td>\n",
              "    </tr>\n",
              "    <tr>\n",
              "      <th>58</th>\n",
              "      <td>5.974005</td>\n",
              "      <td>7.000150</td>\n",
              "      <td>0.060773</td>\n",
              "      <td>0.082027</td>\n",
              "      <td>0.731720</td>\n",
              "      <td>0.682442</td>\n",
              "      <td>0.492400</td>\n",
              "      <td>0.499409</td>\n",
              "    </tr>\n",
              "    <tr>\n",
              "      <th>59</th>\n",
              "      <td>8.121529</td>\n",
              "      <td>7.123920</td>\n",
              "      <td>0.088721</td>\n",
              "      <td>0.066962</td>\n",
              "      <td>0.703088</td>\n",
              "      <td>0.703947</td>\n",
              "      <td>0.360026</td>\n",
              "      <td>0.326874</td>\n",
              "    </tr>\n",
              "    <tr>\n",
              "      <th>60</th>\n",
              "      <td>5.536030</td>\n",
              "      <td>5.927803</td>\n",
              "      <td>0.077140</td>\n",
              "      <td>0.084484</td>\n",
              "      <td>0.443405</td>\n",
              "      <td>0.508472</td>\n",
              "      <td>0.462898</td>\n",
              "      <td>0.419030</td>\n",
              "    </tr>\n",
              "    <tr>\n",
              "      <th>61</th>\n",
              "      <td>3.586623</td>\n",
              "      <td>3.951120</td>\n",
              "      <td>0.050926</td>\n",
              "      <td>0.058016</td>\n",
              "      <td>0.712596</td>\n",
              "      <td>0.512363</td>\n",
              "      <td>0.277846</td>\n",
              "      <td>0.345512</td>\n",
              "    </tr>\n",
              "    <tr>\n",
              "      <th>62</th>\n",
              "      <td>3.029934</td>\n",
              "      <td>2.820925</td>\n",
              "      <td>0.045363</td>\n",
              "      <td>0.039449</td>\n",
              "      <td>0.574608</td>\n",
              "      <td>0.622609</td>\n",
              "      <td>0.267174</td>\n",
              "      <td>0.438551</td>\n",
              "    </tr>\n",
              "    <tr>\n",
              "      <th>63</th>\n",
              "      <td>3.600677</td>\n",
              "      <td>4.271907</td>\n",
              "      <td>0.031313</td>\n",
              "      <td>0.042113</td>\n",
              "      <td>0.824996</td>\n",
              "      <td>0.814977</td>\n",
              "      <td>0.231052</td>\n",
              "      <td>0.294546</td>\n",
              "    </tr>\n",
              "  </tbody>\n",
              "</table>\n",
              "</div>"
            ],
            "text/plain": [
              "       CV LSI     CV RSI   DEs LSI   DEs RSI   NSI LSI   NSI RSI   INC LSI  \\\n",
              "49   3.216347   3.263537  0.040019  0.037523  0.808185  0.834554  0.246733   \n",
              "50   4.310220   3.772645  0.042463  0.039765  0.685093  0.665026  0.343559   \n",
              "51  12.756536  17.220916  0.059773  0.143144  0.939919  0.802437  0.146167   \n",
              "52   9.150581   9.490753  0.160589  0.154956  0.572901  0.541567  0.527130   \n",
              "53   3.857103   3.757114  0.055417  0.054308  0.495027  0.474189  0.537416   \n",
              "54   8.677115   8.425404  0.094987  0.054433  0.582213  0.876458  0.623265   \n",
              "55   3.587002   3.762057  0.047432  0.049504  0.488475  0.606083  0.332423   \n",
              "56   5.516874   5.055218  0.035466  0.029024  0.806664  0.796708  0.372991   \n",
              "57   5.277804   5.446001  0.071921  0.073070  0.753812  0.643230  0.359763   \n",
              "58   5.974005   7.000150  0.060773  0.082027  0.731720  0.682442  0.492400   \n",
              "59   8.121529   7.123920  0.088721  0.066962  0.703088  0.703947  0.360026   \n",
              "60   5.536030   5.927803  0.077140  0.084484  0.443405  0.508472  0.462898   \n",
              "61   3.586623   3.951120  0.050926  0.058016  0.712596  0.512363  0.277846   \n",
              "62   3.029934   2.820925  0.045363  0.039449  0.574608  0.622609  0.267174   \n",
              "63   3.600677   4.271907  0.031313  0.042113  0.824996  0.814977  0.231052   \n",
              "\n",
              "     INC RSI  \n",
              "49  0.186075  \n",
              "50  0.301574  \n",
              "51  0.499858  \n",
              "52  0.538954  \n",
              "53  0.338862  \n",
              "54  0.307059  \n",
              "55  0.312830  \n",
              "56  0.378312  \n",
              "57  0.487474  \n",
              "58  0.499409  \n",
              "59  0.326874  \n",
              "60  0.419030  \n",
              "61  0.345512  \n",
              "62  0.438551  \n",
              "63  0.294546  "
            ]
          },
          "metadata": {
            "tags": []
          }
        },
        {
          "output_type": "stream",
          "text": [
            "True\n"
          ],
          "name": "stdout"
        }
      ]
    },
    {
      "cell_type": "markdown",
      "metadata": {
        "id": "ereuNh7c6BG4"
      },
      "source": [
        "## **Comparación de los índices entre sujetos Control, ELA y Parkinson**"
      ]
    },
    {
      "cell_type": "markdown",
      "metadata": {
        "id": "dL7ZMa3wP2bH"
      },
      "source": [
        "Para el análisis estadístico de los datos se hace uso de pruebas no paramétricas puesto que a estos datos no se les realizaron pruebas para comprobar si seguian o no una distribución normal. Por lo que las pruebas no paramétricas son de gran utilidad en estos casos, debido a que no hacen suposiciones sobre la distribución subyacente de los datos.\n",
        "\n",
        "Una vez decidido el tipo de pruebas a realizar, en este caso no paramétricas, se implementa el test de U de Mann-Whitney, el cual permite comparar las diferencias entre dos muestras cuando los tamaños de las muestras son pequeños (n < 30). Adicionalmente, el valor del nivel de significancia a tomar será de 0.05.\n",
        "\n"
      ]
    },
    {
      "cell_type": "markdown",
      "metadata": {
        "id": "J7ukjiBde7tZ"
      },
      "source": [
        "### **Pruebas de hipótesis**"
      ]
    },
    {
      "cell_type": "markdown",
      "metadata": {
        "id": "ueq9kZzoMnbC"
      },
      "source": [
        "Para realizar las pruebas de hipótesis, se tomaron en cuenta solo los índices para la pierna de derecha de los sujetos a analizar. "
      ]
    },
    {
      "cell_type": "markdown",
      "metadata": {
        "id": "U_nwqEMWfEWV"
      },
      "source": [
        "H 0 :  El Coeficiente de variación del intervalo de zancada derecha es igual entre los sujetos control y los pacientes con ELA.\n",
        "\n",
        "H A :  El Coeficiente de variación del intervalo de zancada derecha no es igual entre los sujetos control y los pacientes con ELA."
      ]
    },
    {
      "cell_type": "code",
      "metadata": {
        "id": "ItWRSx8wKQa9",
        "colab": {
          "base_uri": "https://localhost:8080/",
          "height": 34
        },
        "outputId": "79ace5b2-e410-42a0-d8c7-85c9d442431a"
      },
      "source": [
        "import scipy.stats as stats #Se importa la libreria scipy que contiene herramientas estadísticas.\n",
        "u_statistic, pVal = stats.mannwhitneyu(c_varr[0:16] , c_varr[16:29]) #Se aplica el test de Mann-Whitney\n",
        "print ('Valor P:', pVal)\n"
      ],
      "execution_count": null,
      "outputs": [
        {
          "output_type": "stream",
          "text": [
            "Valor P: 0.003498853012357593\n"
          ],
          "name": "stdout"
        }
      ]
    },
    {
      "cell_type": "markdown",
      "metadata": {
        "id": "MtFB_JQpp7RK"
      },
      "source": [
        "*  Dado que el valor p ( 0.003498) es menor que 0.05, se rechaza la hipótesis nula, lo que significa que existe una diferencia entre los coeficientes de variación del intervalo de zancada derecha de los sujetos control y los pacientes con ELA.\n"
      ]
    },
    {
      "cell_type": "markdown",
      "metadata": {
        "id": "wjYu3sCIfngD"
      },
      "source": [
        "H 0 :  El Coeficiente de variación del intervalo de zancada derecha es igual entre los sujetos control y los pacientes con Parkinson.\n",
        "\n",
        "H A :  El Coeficiente de variación del intervalo de zancada derecha no es igual entre los sujetos control y los pacientes con Parkinson."
      ]
    },
    {
      "cell_type": "code",
      "metadata": {
        "id": "6ZltXfjWfW3d",
        "colab": {
          "base_uri": "https://localhost:8080/",
          "height": 34
        },
        "outputId": "cc2ccd6d-dd9f-4959-ddcc-b0f1664042ec"
      },
      "source": [
        "u_statistic, pVal = stats.mannwhitneyu(c_varr[0:16] , c_varr[49:64]) #Se aplica el test de Mann-Whitney\n",
        "print ('Valor P:', pVal)"
      ],
      "execution_count": null,
      "outputs": [
        {
          "output_type": "stream",
          "text": [
            "Valor P: 0.00010954942300446618\n"
          ],
          "name": "stdout"
        }
      ]
    },
    {
      "cell_type": "markdown",
      "metadata": {
        "id": "BGjeGuI_qzY0"
      },
      "source": [
        "* Dado que el valor p ( 0.0001095) es menor que 0.05, se rechaza la hipótesis nula, lo que significa que existe una diferencia entre los coeficientes de variación del intervalo de zancada derecha de los sujetos control y los pacientes con Parkinson."
      ]
    },
    {
      "cell_type": "markdown",
      "metadata": {
        "id": "x7gxZTEdf2Xf"
      },
      "source": [
        "H 0 :  El Coeficiente de variación del intervalo de zancada derecha es igual entre los pacientes con ELA y con Parkinson.\n",
        "\n",
        "H A :  El Coeficiente de variación del intervalo de zancada derecha no es igual entre los pacientes con ELA y con Parkinson."
      ]
    },
    {
      "cell_type": "code",
      "metadata": {
        "id": "-PUoY5lXfWm5",
        "colab": {
          "base_uri": "https://localhost:8080/",
          "height": 34
        },
        "outputId": "4fc9898a-0583-478c-e9b4-d23babc56327"
      },
      "source": [
        "u_statistic, pVal = stats.mannwhitneyu(c_varr[16:29] , c_varr[49:64]) #Se aplica el test de Mann-Whitney\n",
        "print ('Valor P:', pVal)"
      ],
      "execution_count": null,
      "outputs": [
        {
          "output_type": "stream",
          "text": [
            "Valor P: 0.5\n"
          ],
          "name": "stdout"
        }
      ]
    },
    {
      "cell_type": "markdown",
      "metadata": {
        "id": "EiwCfDFprBY2"
      },
      "source": [
        "* Dado que el valor p ( 0.5 ) no es menor que 0.05, no se rechaza la hipótesis nula. No se tiene evidencia suficiente para decir que no existe una diferencia entre los coeficientes de variación del intervalo de zancada derecha de los pacientes con ELA y con Parkinson."
      ]
    },
    {
      "cell_type": "markdown",
      "metadata": {
        "id": "BDGbvx6EgQGe"
      },
      "source": [
        "H 0 :  El Coeficiente de no estacionariedad del intervalo de zancada derecha es igual entre los sujetos control y los pacientes con ELA.\n",
        "\n",
        "H A :  El Coeficiente de no estacionariedad del intervalo de zancada derecha no es igual entre los sujetos control y los pacientes con ELA."
      ]
    },
    {
      "cell_type": "code",
      "metadata": {
        "id": "jgGT50cWhJbg",
        "colab": {
          "base_uri": "https://localhost:8080/",
          "height": 34
        },
        "outputId": "e3575cf0-523b-467a-e55a-5276c78902d0"
      },
      "source": [
        "u_statistic, pVal = stats.mannwhitneyu(nsi_r[0:16] , nsi_r[16:29]) #Se aplica el test de Mann-Whitney\n",
        "print ('Valor P:', pVal)"
      ],
      "execution_count": null,
      "outputs": [
        {
          "output_type": "stream",
          "text": [
            "Valor P: 0.13173033641745124\n"
          ],
          "name": "stdout"
        }
      ]
    },
    {
      "cell_type": "markdown",
      "metadata": {
        "id": "rcI_TUGErDbR"
      },
      "source": [
        "* Dado que el valor p ( 0.1317 ) no es menor que 0.05, no se rechaza la hipótesis nula. No se tiene evidencia suficiente para decir que no existe una diferencia entre los coeficientes de noestacionariedad del intervalo de zancada derecha de los sujetos control y los pacientes con ELA."
      ]
    },
    {
      "cell_type": "markdown",
      "metadata": {
        "id": "faBHP3DJhYaD"
      },
      "source": [
        "H 0 : El Coeficiente de no estacionariedad del intervalo de zancada derecha es igual entre los sujetos control y los pacientes con Parkinson.\n",
        "\n",
        "H A : El Coeficiente de no estacionariedad del intervalo de zancada derecha no es igual entre los sujetos control y los pacientes con Parkinson."
      ]
    },
    {
      "cell_type": "code",
      "metadata": {
        "id": "xr369lxZhict",
        "colab": {
          "base_uri": "https://localhost:8080/",
          "height": 34
        },
        "outputId": "8682b505-0111-4d47-ae61-3c1b41df6e5d"
      },
      "source": [
        "u_statistic, pVal = stats.mannwhitneyu(nsi_r[0:16] , nsi_r[49:64]) #Se aplica el test de Mann-Whitney\n",
        "print ('Valor P:', pVal)"
      ],
      "execution_count": null,
      "outputs": [
        {
          "output_type": "stream",
          "text": [
            "Valor P: 0.41394574830731296\n"
          ],
          "name": "stdout"
        }
      ]
    },
    {
      "cell_type": "markdown",
      "metadata": {
        "id": "NvtQO59BrFCx"
      },
      "source": [
        "* Dado que el valor p ( 0.4139 ) no es menor que 0.05, no se rechaza la hipótesis nula. No se tiene evidencia suficiente para decir que no existe una diferencia entre los coeficientes de noestacionariedad del intervalo de zancada derecha de los sujetos control y los pacientes con Parkinson."
      ]
    },
    {
      "cell_type": "markdown",
      "metadata": {
        "id": "ajajPhsmhrG9"
      },
      "source": [
        "H 0 : El Coeficiente de no estacionariedad del intervalo de zancada derecha es igual entre los los pacientes con ELA y con Parkinson.\n",
        "\n",
        "H A : El Coeficiente de no estacionariedad del intervalo de zancada derecha no es igual entre los pacientes con ELA y con Parkinson."
      ]
    },
    {
      "cell_type": "code",
      "metadata": {
        "id": "eIJVCFu3iDgG",
        "colab": {
          "base_uri": "https://localhost:8080/",
          "height": 34
        },
        "outputId": "0077e731-0e63-4047-aa9c-cb8059880a02"
      },
      "source": [
        "u_statistic, pVal = stats.mannwhitneyu(nsi_r[16:29] , nsi_r[49:64]) #Se aplica el test de Mann-Whitney\n",
        "print ('Valor P:', pVal)"
      ],
      "execution_count": null,
      "outputs": [
        {
          "output_type": "stream",
          "text": [
            "Valor P: 0.20350235756514268\n"
          ],
          "name": "stdout"
        }
      ]
    },
    {
      "cell_type": "markdown",
      "metadata": {
        "id": "lyOGABHzrGYx"
      },
      "source": [
        "* Dado que el valor p ( 0.2035 ) no es menor que 0.05, no se rechaza la hipótesis nula. No se tiene evidencia suficiente para decir que no existe una diferencia entre los coeficientes de noestacionariedad del intervalo de zancada derecha de los pacientes con ELA y con Parkinson."
      ]
    },
    {
      "cell_type": "markdown",
      "metadata": {
        "id": "02xWs3hGjRW6"
      },
      "source": [
        "H 0 : La desviación estandar sin tendencia del intervalo de zancada derecha es igual entre los sujetos control y los pacientes con ELA.\n",
        "\n",
        "H A : La desviación estandar sin tendencia  del intervalo de zancada derecha no es igual entre los sujetos control y los pacientes con ELA."
      ]
    },
    {
      "cell_type": "code",
      "metadata": {
        "id": "sTNCIHrOktNa",
        "colab": {
          "base_uri": "https://localhost:8080/",
          "height": 34
        },
        "outputId": "0d294d3f-344f-48e2-b7e1-3928a3d1f622"
      },
      "source": [
        "u_statistic, pVal = stats.mannwhitneyu(desv_stl[0:16] , desv_stl[16:29]) #Se aplica el test de Mann-Whitney\n",
        "print ('Valor P:', pVal)"
      ],
      "execution_count": null,
      "outputs": [
        {
          "output_type": "stream",
          "text": [
            "Valor P: 0.00017577678728790711\n"
          ],
          "name": "stdout"
        }
      ]
    },
    {
      "cell_type": "markdown",
      "metadata": {
        "id": "PjVu8PxwrHhh"
      },
      "source": [
        "* Dado que el valor p ( 0.000175) es menor que 0.05, se rechaza la hipótesis nula, lo que significa que existe una diferencia entre las desviaciones estandar sin tendencia del intervalo de zancada derecha de los sujetos control y los pacientes con ELA."
      ]
    },
    {
      "cell_type": "markdown",
      "metadata": {
        "id": "t5NDnyR5lTS8"
      },
      "source": [
        "H 0 : La desviación estandar sin tendencia del intervalo de zancada derecha es igual entre los sujetos control y los pacientes con Parkinson.\n",
        "\n",
        "H A : La desviación estandar sin tendencia  del intervalo de zancada derecha no es igual entre los sujetos control y los pacientes con Parkinson."
      ]
    },
    {
      "cell_type": "code",
      "metadata": {
        "id": "KqbkTBORl1qj",
        "colab": {
          "base_uri": "https://localhost:8080/",
          "height": 34
        },
        "outputId": "388b6523-b49b-4991-a68d-7648ae4af1d4"
      },
      "source": [
        "u_statistic, pVal = stats.mannwhitneyu(desv_stl[0:16] , desv_stl[49:64]) #Se aplica el test de Mann-Whitney\n",
        "print ('Valor P:', pVal)"
      ],
      "execution_count": null,
      "outputs": [
        {
          "output_type": "stream",
          "text": [
            "Valor P: 1.521303903189396e-05\n"
          ],
          "name": "stdout"
        }
      ]
    },
    {
      "cell_type": "markdown",
      "metadata": {
        "id": "kuht6PYSr1yk"
      },
      "source": [
        "* Dado que el valor p ( 1.5213e-05 ) es menor que 0.05, se rechaza la hipótesis nula, lo que significa que existe una diferencia entre las desviaciones estandar sin tendencia del intervalo de zancada derecha de los sujetos control y los pacientes con Parkinson."
      ]
    },
    {
      "cell_type": "markdown",
      "metadata": {
        "id": "qJS29gCOl8-4"
      },
      "source": [
        "H 0 : La desviación estandar sin tendencia del intervalo de zancada derecha es igual entre los pacientes con ELA y con Parkinson.\n",
        "\n",
        "H A : La desviación estandar sin tendencia  del intervalo de zancada derecha no es igual entre los pacientes con ELA y con Parkinson."
      ]
    },
    {
      "cell_type": "code",
      "metadata": {
        "id": "y970kwSNmFYR",
        "colab": {
          "base_uri": "https://localhost:8080/",
          "height": 34
        },
        "outputId": "94c81cce-3d2a-49fb-f3c6-c44a0549e224"
      },
      "source": [
        "u_statistic, pVal = stats.mannwhitneyu(desv_stl[16:29] , desv_stl[49:64]) #Se aplica el test de Mann-Whitney\n",
        "print ('Valor P:', pVal)"
      ],
      "execution_count": null,
      "outputs": [
        {
          "output_type": "stream",
          "text": [
            "Valor P: 0.2746366343880404\n"
          ],
          "name": "stdout"
        }
      ]
    },
    {
      "cell_type": "markdown",
      "metadata": {
        "id": "hX_yivBJr3i4"
      },
      "source": [
        "* Dado que el valor p ( 0.27463 ) no es menor que 0.05, no se rechaza la hipótesis nula. No se tiene evidencia suficiente para decir que no existe una diferencia entre las desviaciones estandar sin tendencia del intervalo de zancada derecha de los pacientes con ELA y con Parkinson."
      ]
    },
    {
      "cell_type": "markdown",
      "metadata": {
        "id": "0gdA3OCInKTo"
      },
      "source": [
        "H 0 : El índice de incosistencia de la varianza del intervalo de zancada derecha es igual entre los sujetos control y los pacientes con ELA.\n",
        "\n",
        "H A : El índice de inconsistencia de la varianza del intervalo de zancada derecha no es igual entre los sujetos control y los pacientes con ELA."
      ]
    },
    {
      "cell_type": "code",
      "metadata": {
        "id": "8hrHn35rnJKe",
        "colab": {
          "base_uri": "https://localhost:8080/",
          "height": 34
        },
        "outputId": "3298e5e8-1818-45d9-9f91-50f5a54b413f"
      },
      "source": [
        "u_statistic, pVal = stats.mannwhitneyu(inc_r[0:16] , inc_r[16:29]) #Se aplica el test de Mann-Whitney\n",
        "print ('Valor P:', pVal)"
      ],
      "execution_count": null,
      "outputs": [
        {
          "output_type": "stream",
          "text": [
            "Valor P: 0.3384845685743053\n"
          ],
          "name": "stdout"
        }
      ]
    },
    {
      "cell_type": "markdown",
      "metadata": {
        "id": "0ZwbamvBr5AF"
      },
      "source": [
        "* Dado que el valor p ( 0.3384 ) no es menor que 0.05, no se rechaza la hipótesis nula. No se tiene evidencia suficiente para decir que no existe una diferencia entre los índices de inconsistencia de la varianza del intervalo de zancada derecha de los sujetos control y los pacientes con ELA."
      ]
    },
    {
      "cell_type": "markdown",
      "metadata": {
        "id": "06Hx_Hg9m3eC"
      },
      "source": [
        "H 0 : El índice de incosistencia de la varianza del intervalo de zancada derecha es igual entre los sujetos control y los pacientes con Parkinson.\n",
        "\n",
        "H A : El índice de inconsistencia de la varianza del intervalo de zancada derecha no es igual entre los sujetos control y los pacientes con Parkinson."
      ]
    },
    {
      "cell_type": "code",
      "metadata": {
        "id": "xUfqJ3U0nDK1",
        "colab": {
          "base_uri": "https://localhost:8080/",
          "height": 34
        },
        "outputId": "61553d50-468a-452f-fa77-07fff083de14"
      },
      "source": [
        "u_statistic, pVal = stats.mannwhitneyu(inc_r[0:16] , inc_r[49:64]) #Se aplica el test de Mann-Whitney\n",
        "print ('Valor P:', pVal)"
      ],
      "execution_count": null,
      "outputs": [
        {
          "output_type": "stream",
          "text": [
            "Valor P: 0.17646551653810827\n"
          ],
          "name": "stdout"
        }
      ]
    },
    {
      "cell_type": "markdown",
      "metadata": {
        "id": "vCXVY2Wfr571"
      },
      "source": [
        "* Dado que el valor p ( 0.1764 ) no es menor que 0.05, no se rechaza la hipótesis nula. No se tiene evidencia suficiente para decir que no existe una diferencia entre los índices de inconsistencia de la varianza del intervalo de zancada derecha de los sujetos control y los pacientes con Parkinson."
      ]
    },
    {
      "cell_type": "markdown",
      "metadata": {
        "id": "Bey2eHRrmZHa"
      },
      "source": [
        "H 0 : El índice de incosistencia de la varianza del intervalo de zancada derecha es igual entre los pacientes con ELA y con Parkinson.\n",
        "\n",
        "H A : El índice de inconsistencia de la varianza del intervalo de zancada derecha no es igual entre los pacientes con ELA y con Parkinson."
      ]
    },
    {
      "cell_type": "code",
      "metadata": {
        "id": "w5qEhZI2mvrO",
        "colab": {
          "base_uri": "https://localhost:8080/",
          "height": 34
        },
        "outputId": "ff1f7070-6223-4b95-a0b2-2f4436a7827e"
      },
      "source": [
        "u_statistic, pVal = stats.mannwhitneyu(inc_r[16:29] , inc_r[49:64]) #Se aplica el test de Mann-Whitney\n",
        "print ('Valor P:', pVal)"
      ],
      "execution_count": null,
      "outputs": [
        {
          "output_type": "stream",
          "text": [
            "Valor P: 0.12473583425552626\n"
          ],
          "name": "stdout"
        }
      ]
    },
    {
      "cell_type": "markdown",
      "metadata": {
        "id": "lVsZ2oEzr7eL"
      },
      "source": [
        "* Dado que el valor p ( 0.1247 ) no es menor que 0.05, no se rechaza la hipótesis nula. No se tiene evidencia suficiente para decir que no existe una diferencia entre los índices de inconsistencia de la varianza del intervalo de zancada derecha de los pacientes con ELA y con parkinson."
      ]
    },
    {
      "cell_type": "markdown",
      "metadata": {
        "id": "zwj5WTBhREl0"
      },
      "source": [
        "## **Análisis de resultados**"
      ]
    },
    {
      "cell_type": "markdown",
      "metadata": {
        "id": "2aPTq4rBSmOp"
      },
      "source": [
        "Debido a que en este proyecto se evalúan la señales mediante herramientas de la estadística es posible encontrar que en cada grupo de sujetos estudiados los indices de fluctuación de magnitud y dinámica de fluctuación varían notoriamente. Se observa por ejemplo, que para el caso del coeficiente de variación para LSI y RSI varían entre 1.3 y 4.1 en sujetos control, mientras que para los pacientes que presentan ELA, Parkinson o Huntington el intervalo de esta variable es mucho mayor; el aumento en esta medida estadística es razonable debido a que el coeficiente de variación mide la fluctuación de la velocidad de la caminata, pues da información acerca de la variabilidad del tiempo de balanceo con respecto a un valor promedio de duración de cada paso. En este orden de ideas se puede decir que estos valores se ven influenciados por factores como la fuerza del balanceo, el estado funcional y la salud mental del sujeto [2].\n",
        "\n",
        "Por otra parte, en las pruebas de hipótesis realizadas se encontró que el coeficiente de variación es un indice válido que revela información acerca de las diferencias de la marcha entre sujetos sanos y con alteraciones motoras, sin embargo, a partir de este índice no es posible diferenciar entre sujetos con enfermedades neurodegenerativas, por lo tanto, se hace necesario implementar otros indices para distinguir las variaciones de la marcha entre pacientes enfermos. \n",
        "\n",
        "Así mismo, gracias al análisis estadístico realizado, se determinó que la desviación estándar sin tendencia, también es un parámetro que sirve para diferenciar la marcha entre sujetos control y aquellos que padecen algún tipo de enfermedad, ya que el valor p resultante es menor que el nivel de significancia elegido. Análogamente al anterior índice, este parámetro no es significativo entre pacientes con ELA y Parkinson. \n",
        "\n",
        "En cuanto a los índices de dinámica de fluctuación se encontró que no es posible rechazar la hipótesis nula establecida puesto que el valor p en los dos casos excede el nivel de significancia establecido de 0.05, lo que da cuenta, de que no es posible hacer una diferenciación entre los grupos estudiados. Por lo tanto, para estudios futuros será necesario evaluar la aplicación de nuevos índices. \n",
        "\n",
        "En este sentido, el estudio de las señales a nivel clínico es de gran importancia porque con ellas se puede representar variables fisiológicas que presentan múltiples comportamientos como la presión, la temperatura y demás. Estudiar las señales de marcha humana es de gran utilidad debido a que con este tipo de investigaciones es posible realizar diagnósticos y hacer una adecuada elección de tratamientos en pacientes con enfermedades neurodegenerativas en donde se ve afectado el control motor como por ejemplo, la forma de caminar. Sin embargo, si se requiere de un estudio más especializado es fundamental tener cuenta otras variables que caractericen el estado de la marcha de los sujetos de estudio. \n",
        "\n",
        "\n"
      ]
    },
    {
      "cell_type": "markdown",
      "metadata": {
        "id": "8j9M6T1MN5V2"
      },
      "source": [
        "## **Referencias**"
      ]
    },
    {
      "cell_type": "markdown",
      "metadata": {
        "id": "ixTl7sw6OGRI"
      },
      "source": [
        "[1] J. M. Ramírez, F. Moreno, and R. Medina, “Análisis de la serie temporal del balanceo en la marcha de pacientes con parkinson.” [En línea]. Disponible en: http://ve.scielo.org/scielo.php?script=sci_arttext&pid=S1316-48212006000400004.\n",
        "\n",
        "[2] J. M. Hausdorff et al., “Marcadores dinámicos de ritmo de marcha alterado en la esclerosis lateral amiotrófica,” pp. 2045–2053, 2018."
      ]
    }
  ]
}